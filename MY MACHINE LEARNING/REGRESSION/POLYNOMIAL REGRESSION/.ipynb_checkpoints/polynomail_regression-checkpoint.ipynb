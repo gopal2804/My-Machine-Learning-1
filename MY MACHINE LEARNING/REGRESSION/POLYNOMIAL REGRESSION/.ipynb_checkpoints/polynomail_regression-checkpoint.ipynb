{
 "cells": [
  {
   "cell_type": "markdown",
   "id": "4af74f01",
   "metadata": {},
   "source": [
    "# POLYNOMIAL REGRESSION"
   ]
  },
  {
   "cell_type": "markdown",
   "id": "20126914",
   "metadata": {},
   "source": [
    "## IMPORTING LIBRARIES"
   ]
  },
  {
   "cell_type": "code",
   "execution_count": 2,
   "id": "d23dc5a3",
   "metadata": {},
   "outputs": [],
   "source": [
    "import numpy as np\n",
    "import matplotlib.pyplot as plt\n",
    "import pandas as pd"
   ]
  },
  {
   "cell_type": "markdown",
   "id": "472a0d3a",
   "metadata": {},
   "source": [
    "## IMPORTING THE DATASET"
   ]
  },
  {
   "cell_type": "code",
   "execution_count": 3,
   "id": "bfc603fd",
   "metadata": {},
   "outputs": [],
   "source": [
    "dataset=pd.read_csv('Position_Salaries.csv')\n",
    "x=dataset.iloc[:,1:-1].values\n",
    "y=dataset.iloc[:,-1].values"
   ]
  },
  {
   "cell_type": "code",
   "execution_count": 4,
   "id": "dbd05f43",
   "metadata": {},
   "outputs": [
    {
     "data": {
      "text/html": [
       "<div>\n",
       "<style scoped>\n",
       "    .dataframe tbody tr th:only-of-type {\n",
       "        vertical-align: middle;\n",
       "    }\n",
       "\n",
       "    .dataframe tbody tr th {\n",
       "        vertical-align: top;\n",
       "    }\n",
       "\n",
       "    .dataframe thead th {\n",
       "        text-align: right;\n",
       "    }\n",
       "</style>\n",
       "<table border=\"1\" class=\"dataframe\">\n",
       "  <thead>\n",
       "    <tr style=\"text-align: right;\">\n",
       "      <th></th>\n",
       "      <th>Position</th>\n",
       "      <th>Level</th>\n",
       "      <th>Salary</th>\n",
       "    </tr>\n",
       "  </thead>\n",
       "  <tbody>\n",
       "    <tr>\n",
       "      <th>0</th>\n",
       "      <td>Business Analyst</td>\n",
       "      <td>1</td>\n",
       "      <td>45000</td>\n",
       "    </tr>\n",
       "    <tr>\n",
       "      <th>1</th>\n",
       "      <td>Junior Consultant</td>\n",
       "      <td>2</td>\n",
       "      <td>50000</td>\n",
       "    </tr>\n",
       "    <tr>\n",
       "      <th>2</th>\n",
       "      <td>Senior Consultant</td>\n",
       "      <td>3</td>\n",
       "      <td>60000</td>\n",
       "    </tr>\n",
       "    <tr>\n",
       "      <th>3</th>\n",
       "      <td>Manager</td>\n",
       "      <td>4</td>\n",
       "      <td>80000</td>\n",
       "    </tr>\n",
       "    <tr>\n",
       "      <th>4</th>\n",
       "      <td>Country Manager</td>\n",
       "      <td>5</td>\n",
       "      <td>110000</td>\n",
       "    </tr>\n",
       "    <tr>\n",
       "      <th>5</th>\n",
       "      <td>Region Manager</td>\n",
       "      <td>6</td>\n",
       "      <td>150000</td>\n",
       "    </tr>\n",
       "    <tr>\n",
       "      <th>6</th>\n",
       "      <td>Partner</td>\n",
       "      <td>7</td>\n",
       "      <td>200000</td>\n",
       "    </tr>\n",
       "    <tr>\n",
       "      <th>7</th>\n",
       "      <td>Senior Partner</td>\n",
       "      <td>8</td>\n",
       "      <td>300000</td>\n",
       "    </tr>\n",
       "    <tr>\n",
       "      <th>8</th>\n",
       "      <td>C-level</td>\n",
       "      <td>9</td>\n",
       "      <td>500000</td>\n",
       "    </tr>\n",
       "    <tr>\n",
       "      <th>9</th>\n",
       "      <td>CEO</td>\n",
       "      <td>10</td>\n",
       "      <td>1000000</td>\n",
       "    </tr>\n",
       "  </tbody>\n",
       "</table>\n",
       "</div>"
      ],
      "text/plain": [
       "            Position  Level   Salary\n",
       "0   Business Analyst      1    45000\n",
       "1  Junior Consultant      2    50000\n",
       "2  Senior Consultant      3    60000\n",
       "3            Manager      4    80000\n",
       "4    Country Manager      5   110000\n",
       "5     Region Manager      6   150000\n",
       "6            Partner      7   200000\n",
       "7     Senior Partner      8   300000\n",
       "8            C-level      9   500000\n",
       "9                CEO     10  1000000"
      ]
     },
     "execution_count": 4,
     "metadata": {},
     "output_type": "execute_result"
    }
   ],
   "source": [
    "dataset"
   ]
  },
  {
   "cell_type": "code",
   "execution_count": 5,
   "id": "695ecdaf",
   "metadata": {},
   "outputs": [
    {
     "data": {
      "text/plain": [
       "array([[ 1],\n",
       "       [ 2],\n",
       "       [ 3],\n",
       "       [ 4],\n",
       "       [ 5],\n",
       "       [ 6],\n",
       "       [ 7],\n",
       "       [ 8],\n",
       "       [ 9],\n",
       "       [10]], dtype=int64)"
      ]
     },
     "execution_count": 5,
     "metadata": {},
     "output_type": "execute_result"
    }
   ],
   "source": [
    "x"
   ]
  },
  {
   "cell_type": "code",
   "execution_count": 6,
   "id": "8996e1a2",
   "metadata": {},
   "outputs": [
    {
     "data": {
      "text/plain": [
       "array([  45000,   50000,   60000,   80000,  110000,  150000,  200000,\n",
       "        300000,  500000, 1000000], dtype=int64)"
      ]
     },
     "execution_count": 6,
     "metadata": {},
     "output_type": "execute_result"
    }
   ],
   "source": [
    "y"
   ]
  },
  {
   "cell_type": "markdown",
   "id": "9f604841",
   "metadata": {},
   "source": [
    "## TRAINING THE LINEAR REGRESSION MODEL ON WHOLE DATASET"
   ]
  },
  {
   "cell_type": "code",
   "execution_count": 7,
   "id": "bc071853",
   "metadata": {},
   "outputs": [
    {
     "data": {
      "text/plain": [
       "LinearRegression()"
      ]
     },
     "execution_count": 7,
     "metadata": {},
     "output_type": "execute_result"
    }
   ],
   "source": [
    "from sklearn.linear_model import LinearRegression\n",
    "lin_reg=LinearRegression()\n",
    "lin_reg.fit(x,y)"
   ]
  },
  {
   "cell_type": "markdown",
   "id": "ff7be727",
   "metadata": {},
   "source": [
    "## TRAINING THE POLYNOMIAL REGRESSION MODEL ON WHOLE DATASET"
   ]
  },
  {
   "cell_type": "code",
   "execution_count": 8,
   "id": "28747bd8",
   "metadata": {},
   "outputs": [
    {
     "data": {
      "text/plain": [
       "LinearRegression()"
      ]
     },
     "execution_count": 8,
     "metadata": {},
     "output_type": "execute_result"
    }
   ],
   "source": [
    "from sklearn.preprocessing import PolynomialFeatures\n",
    "poly_reg=PolynomialFeatures(degree=4)\n",
    "x_poly=poly_reg.fit_transform(x)\n",
    "lin_reg_2=LinearRegression()\n",
    "lin_reg_2.fit(x_poly,y)"
   ]
  },
  {
   "cell_type": "markdown",
   "id": "2c4898ab",
   "metadata": {},
   "source": [
    "## VISUILISING THE LINEAR REGRESSION RESULTS"
   ]
  },
  {
   "cell_type": "code",
   "execution_count": 9,
   "id": "08cc09c3",
   "metadata": {},
   "outputs": [
    {
     "data": {
      "image/png": "[encoded data removed]",
      "text/plain": [
       "<Figure size 432x288 with 1 Axes>"
      ]
     },
     "metadata": {
      "needs_background": "light"
     },
     "output_type": "display_data"
    }
   ],
   "source": [
    "plt.scatter(x,y,color='red')\n",
    "plt.plot(x,lin_reg.predict(x),color='blue')\n",
    "plt.title(\"truth or bluff(Linear regression)\")\n",
    "plt.xlabel(\"position level\")\n",
    "plt.ylabel('salary')\n",
    "plt.show()"
   ]
  },
  {
   "cell_type": "markdown",
   "id": "1f9b9a21",
   "metadata": {},
   "source": [
    "## VISUILISING THE POLYNOMIAL REGRESSION RESULTS"
   ]
  },
  {
   "cell_type": "code",
   "execution_count": 10,
   "id": "1cba495f",
   "metadata": {},
   "outputs": [
    {
     "data": {
      "image/png": "[encoded data removed]",
      "text/plain": [
       "<Figure size 432x288 with 1 Axes>"
      ]
     },
     "metadata": {
      "needs_background": "light"
     },
     "output_type": "display_data"
    }
   ],
   "source": [
    "plt.scatter(x,y,color='red')\n",
    "plt.plot(x,lin_reg_2.predict(poly_reg.fit_transform(x)),color='blue')\n",
    "plt.title(\"truth or bluff(Polynomial regression)\")\n",
    "plt.xlabel(\"position level\")\n",
    "plt.ylabel('salary')\n",
    "plt.show()"
   ]
  },
  {
   "cell_type": "markdown",
   "id": "3772d60a",
   "metadata": {},
   "source": [
    "## VISUILISING (FOR HIGHER RESOLUTION)"
   ]
  },
  {
   "cell_type": "code",
   "execution_count": 11,
   "id": "92294566",
   "metadata": {},
   "outputs": [
    {
     "data": {
      "image/png": "[encoded data removed]",
      "text/plain": [
       "<Figure size 432x288 with 1 Axes>"
      ]
     },
     "metadata": {
      "needs_background": "light"
     },
     "output_type": "display_data"
    }
   ],
   "source": [
    "x_grid=np.arange(min(x),max(x),0.01)\n",
    "x_grid=x_grid.reshape(len(x_grid),1)\n",
    "plt.scatter(x,y,color='red')\n",
    "plt.plot(x_grid,lin_reg_2.predict(poly_reg.fit_transform(x_grid)),color='green')\n",
    "plt.title(\"truth or bluff(Polynomial regression)\")\n",
    "plt.xlabel(\"position level\")\n",
    "plt.ylabel('salary')\n",
    "plt.show()"
   ]
  },
  {
   "cell_type": "markdown",
   "id": "f7e14bf7",
   "metadata": {},
   "source": [
    "## NOTE: OFCOURSE POLYNOMIAL SHOWING WAY MUCH BETTER RESULT THAN LINEAR "
   ]
  },
  {
   "cell_type": "markdown",
   "id": "1e2eb3e8",
   "metadata": {},
   "source": [
    "# PREDICTING A NEW RESULT WITH LINEAR REGRESSION"
   ]
  },
  {
   "cell_type": "code",
   "execution_count": 55,
   "id": "37f31246",
   "metadata": {},
   "outputs": [
    {
     "data": {
      "text/plain": [
       "array([330378.78787879])"
      ]
     },
     "execution_count": 55,
     "metadata": {},
     "output_type": "execute_result"
    }
   ],
   "source": [
    "lin_reg.predict([[6.5]]) # accuracy not good"
   ]
  },
  {
   "cell_type": "markdown",
   "id": "124c2781",
   "metadata": {},
   "source": [
    "# PREDICTING A NEW RESULT WITH POLYNOMIAL REGRESSION"
   ]
  },
  {
   "cell_type": "code",
   "execution_count": 56,
   "id": "194fcff1",
   "metadata": {},
   "outputs": [
    {
     "data": {
      "text/plain": [
       "array([158862.45265153])"
      ]
     },
     "execution_count": 56,
     "metadata": {},
     "output_type": "execute_result"
    }
   ],
   "source": [
    "lin_reg_2.predict(poly_reg.fit_transform([[6.5]])) # accuracy is good"
   ]
  },
  {
   "cell_type": "code",
   "execution_count": 57,
   "id": "53d4bb8d",
   "metadata": {},
   "outputs": [
    {
     "name": "stdout",
     "output_type": "stream",
     "text": [
      "[80878.78787879]\n"
     ]
    }
   ],
   "source": [
    "print(lin_reg.coef_)"
   ]
  },
  {
   "cell_type": "code",
   "execution_count": 58,
   "id": "f6d67dda",
   "metadata": {},
   "outputs": [
    {
     "name": "stdout",
     "output_type": "stream",
     "text": [
      "-195333.3333333332\n"
     ]
    }
   ],
   "source": [
    "print(lin_reg.intercept_)"
   ]
  },
  {
   "cell_type": "code",
   "execution_count": 59,
   "id": "74ba2ad8",
   "metadata": {},
   "outputs": [
    {
     "name": "stdout",
     "output_type": "stream",
     "text": [
      "[      0.         -211002.33100266   94765.44289054  -15463.2867133\n",
      "     890.15151515]\n"
     ]
    }
   ],
   "source": [
    "print(lin_reg_2.coef_)"
   ]
  },
  {
   "cell_type": "code",
   "execution_count": 60,
   "id": "fa5ddc43",
   "metadata": {},
   "outputs": [
    {
     "name": "stdout",
     "output_type": "stream",
     "text": [
      "184166.6666670672\n"
     ]
    }
   ],
   "source": [
    "print(lin_reg_2.intercept_)"
   ]
  },
  {
   "cell_type": "code",
   "execution_count": 61,
   "id": "4994105a",
   "metadata": {},
   "outputs": [
    {
     "name": "stdout",
     "output_type": "stream",
     "text": [
      "[[-114454.54545455   53356.64335681]\n",
      " [ -33575.75757576   31759.90675996]\n",
      " [  47303.03030303   58642.19114221]\n",
      " [ 128181.81818182   94632.86713289]\n",
      " [ 209060.60606061  121724.94172498]\n",
      " [ 289939.39393939  143275.05827508]\n",
      " [ 370818.18181818  184003.49650349]\n",
      " [ 451696.96969697  289994.17249411]\n",
      " [ 532575.75757576  528694.63869452]\n",
      " [ 613454.54545455  988916.08391594]]\n"
     ]
    }
   ],
   "source": [
    "print(np.concatenate((lin_reg.predict(x).reshape(len(lin_reg.predict(x)),1),lin_reg_2.predict(poly_reg.fit_transform(x)).reshape(len(lin_reg_2.predict(poly_reg.fit_transform(x))),1)),1))"
   ]
  },
  {
   "cell_type": "code",
   "execution_count": 62,
   "id": "b38060ca",
   "metadata": {},
   "outputs": [
    {
     "name": "stdout",
     "output_type": "stream",
     "text": [
      "[-114454.54545455  -33575.75757576   47303.03030303  128181.81818182\n",
      "  209060.60606061  289939.39393939  370818.18181818  451696.96969697\n",
      "  532575.75757576  613454.54545455]\n"
     ]
    }
   ],
   "source": [
    "print(lin_reg.predict(x))"
   ]
  },
  {
   "cell_type": "code",
   "execution_count": 63,
   "id": "d2a5a359",
   "metadata": {},
   "outputs": [
    {
     "name": "stdout",
     "output_type": "stream",
     "text": [
      "[ 53356.64335681  31759.90675996  58642.19114221  94632.86713289\n",
      " 121724.94172498 143275.05827508 184003.49650349 289994.17249411\n",
      " 528694.63869452 988916.08391594]\n"
     ]
    }
   ],
   "source": [
    "print(lin_reg_2.predict(poly_reg.fit_transform(x)))"
   ]
  },
  {
   "cell_type": "markdown",
   "id": "540929eb",
   "metadata": {},
   "source": [
    "# INCREASING THE ACCURACY BY INCREASING THE DEGREE"
   ]
  },
  {
   "cell_type": "code",
   "execution_count": 64,
   "id": "ce783d94",
   "metadata": {},
   "outputs": [
    {
     "data": {
      "text/plain": [
       "LinearRegression()"
      ]
     },
     "execution_count": 64,
     "metadata": {},
     "output_type": "execute_result"
    }
   ],
   "source": [
    "from sklearn.preprocessing import PolynomialFeatures\n",
    "poly_reg_2=PolynomialFeatures(degree=6)\n",
    "x_poly_2=poly_reg_2.fit_transform(x)\n",
    "lin_reg_3=LinearRegression()\n",
    "lin_reg_3.fit(x_poly_2,y)"
   ]
  },
  {
   "cell_type": "code",
   "execution_count": 65,
   "id": "df7b7151",
   "metadata": {},
   "outputs": [
    {
     "data": {
      "image/png": "[encoded data removed]",
      "text/plain": [
       "<Figure size 432x288 with 1 Axes>"
      ]
     },
     "metadata": {
      "needs_background": "light"
     },
     "output_type": "display_data"
    }
   ],
   "source": [
    "plt.scatter(x,y,color='red')\n",
    "plt.plot(x,lin_reg_3.predict(x_poly_2),color='blue')\n",
    "plt.title(\"truth or bluff(Polynomial regression)\")\n",
    "plt.xlabel(\"position level\")\n",
    "plt.ylabel('salary')\n",
    "plt.show()"
   ]
  },
  {
   "cell_type": "code",
   "execution_count": 72,
   "id": "72d2a109",
   "metadata": {},
   "outputs": [
    {
     "data": {
      "text/plain": [
       "array([174192.81930584])"
      ]
     },
     "execution_count": 72,
     "metadata": {},
     "output_type": "execute_result"
    }
   ],
   "source": [
    "lin_reg_3.predict(poly_reg_2.fit_transform([[6.5]])) #better accuracy"
   ]
  },
  {
   "cell_type": "code",
   "execution_count": 73,
   "id": "d7475b57",
   "metadata": {},
   "outputs": [
    {
     "name": "stdout",
     "output_type": "stream",
     "text": [
      "[ 45190.55943813  49086.82983497  61383.44988351  79877.62237762\n",
      " 108808.85780803 149282.05128119 203940.55944048 295889.27738951\n",
      " 501867.71561782 999673.07692873]\n"
     ]
    }
   ],
   "source": [
    "print(lin_reg_3.predict(x_poly_2))"
   ]
  },
  {
   "cell_type": "code",
   "execution_count": null,
   "id": "ba52d8df",
   "metadata": {},
   "outputs": [],
   "source": []
  }
 ],
 "metadata": {
  "kernelspec": {
   "display_name": "Python 3 (ipykernel)",
   "language": "python",
   "name": "python3"
  },
  "language_info": {
   "codemirror_mode": {
    "name": "ipython",
    "version": 3
   },
   "file_extension": ".py",
   "mimetype": "text/x-python",
   "name": "python",
   "nbconvert_exporter": "python",
   "pygments_lexer": "ipython3",
   "version": "3.9.12"
  }
 },
 "nbformat": 4,
 "nbformat_minor": 5
}
