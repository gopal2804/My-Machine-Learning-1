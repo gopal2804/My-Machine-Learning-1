{
 "cells": [
  {
   "cell_type": "markdown",
   "id": "79f926f4",
   "metadata": {},
   "source": [
    "# CONVOLUTIONAL NEYRAL NETWORK"
   ]
  },
  {
   "cell_type": "markdown",
   "id": "51e00512",
   "metadata": {},
   "source": [
    "## IMPORTING THE LIBRARIES"
   ]
  },
  {
   "cell_type": "code",
   "execution_count": 1,
   "id": "5cbe7898",
   "metadata": {},
   "outputs": [],
   "source": [
    "import tensorflow as tf\n",
    "from keras.preprocessing.image import ImageDataGenerator"
   ]
  },
  {
   "cell_type": "markdown",
   "id": "ede76ddc",
   "metadata": {},
   "source": [
    "## PART 1- DATA PREPROCESSING"
   ]
  },
  {
   "cell_type": "markdown",
   "id": "14e53bd7",
   "metadata": {},
   "source": [
    "### PREPROCESSING THE TRAINIG SET"
   ]
  },
  {
   "cell_type": "code",
   "execution_count": 2,
   "id": "16522d2b",
   "metadata": {},
   "outputs": [
    {
     "name": "stdout",
     "output_type": "stream",
     "text": [
      "Found 8000 images belonging to 2 classes.\n"
     ]
    }
   ],
   "source": [
    "train_datagen=ImageDataGenerator(rescale=1./255,shear_range=0.2,zoom_range=0.2,horizontal_flip=True)\n",
    "training_set=train_datagen.flow_from_directory('dataset/training_set',target_size=(64,64),batch_size=32,class_mode='binary')"
   ]
  },
  {
   "cell_type": "markdown",
   "id": "96d26c23",
   "metadata": {},
   "source": [
    "### PREPROCESSING THE TEST SET"
   ]
  },
  {
   "cell_type": "code",
   "execution_count": 3,
   "id": "e0138030",
   "metadata": {},
   "outputs": [
    {
     "name": "stdout",
     "output_type": "stream",
     "text": [
      "Found 2000 images belonging to 2 classes.\n"
     ]
    }
   ],
   "source": [
    "test_datagen=ImageDataGenerator(rescale=1./255)\n",
    "test_set=test_datagen.flow_from_directory('dataset/test_set',target_size=(64,64),batch_size=32,class_mode='binary')"
   ]
  },
  {
   "cell_type": "markdown",
   "id": "b2e77d06",
   "metadata": {},
   "source": [
    "## PART 2- BUILDING THE CNN"
   ]
  },
  {
   "cell_type": "markdown",
   "id": "b9291258",
   "metadata": {},
   "source": [
    "### INITIALISING THE CNN"
   ]
  },
  {
   "cell_type": "code",
   "execution_count": 4,
   "id": "45addc88",
   "metadata": {},
   "outputs": [],
   "source": [
    "cnn=tf.keras.models.Sequential()"
   ]
  },
  {
   "cell_type": "markdown",
   "id": "ac3bf23a",
   "metadata": {},
   "source": [
    "### STEP 1- CONVOLUTION"
   ]
  },
  {
   "cell_type": "code",
   "execution_count": 5,
   "id": "76b5d469",
   "metadata": {},
   "outputs": [],
   "source": [
    "cnn.add(tf.keras.layers.Conv2D(filters=32,kernel_size=3,activation='relu',input_shape=[64,64,3]))\n",
    "## 3 for color image\n",
    "## adding concolutional layer"
   ]
  },
  {
   "cell_type": "markdown",
   "id": "2e1038d1",
   "metadata": {},
   "source": [
    "### STEP 2- POOLING"
   ]
  },
  {
   "cell_type": "code",
   "execution_count": 6,
   "id": "e73e07b9",
   "metadata": {},
   "outputs": [],
   "source": [
    "cnn.add(tf.keras.layers.MaxPool2D(pool_size=2,strides=2))\n",
    "## adding pooling layer"
   ]
  },
  {
   "cell_type": "markdown",
   "id": "fffe6d87",
   "metadata": {},
   "source": [
    "### ADDING THE SECOND CONVOLUTIONAL LAYER"
   ]
  },
  {
   "cell_type": "code",
   "execution_count": 7,
   "id": "8287c79e",
   "metadata": {},
   "outputs": [],
   "source": [
    "cnn.add(tf.keras.layers.Conv2D(filters=32,kernel_size=3,activation='relu'))\n",
    "cnn.add(tf.keras.layers.MaxPool2D(pool_size=2,strides=2))\n",
    "## adding second concolutional layer and pooling layer"
   ]
  },
  {
   "cell_type": "markdown",
   "id": "b39bae56",
   "metadata": {},
   "source": [
    "### STEP 3- FLATTENING"
   ]
  },
  {
   "cell_type": "code",
   "execution_count": 8,
   "id": "384b84ed",
   "metadata": {},
   "outputs": [],
   "source": [
    "cnn.add(tf.keras.layers.Flatten())"
   ]
  },
  {
   "cell_type": "markdown",
   "id": "a38c1c3a",
   "metadata": {},
   "source": [
    "### STEP 4- FULL CONNECTION"
   ]
  },
  {
   "cell_type": "code",
   "execution_count": 9,
   "id": "21f7c5e0",
   "metadata": {},
   "outputs": [],
   "source": [
    "cnn.add(tf.keras.layers.Dense(units=128,activation='relu'))"
   ]
  },
  {
   "cell_type": "markdown",
   "id": "81ecf6e8",
   "metadata": {},
   "source": [
    "### STEP 5- OUTPUT LAYER"
   ]
  },
  {
   "cell_type": "code",
   "execution_count": 10,
   "id": "240fa2c6",
   "metadata": {},
   "outputs": [],
   "source": [
    "cnn.add(tf.keras.layers.Dense(units=1,activation='sigmoid'))"
   ]
  },
  {
   "cell_type": "markdown",
   "id": "3f885d57",
   "metadata": {},
   "source": [
    "## PART 3- TRAINING THE CNN"
   ]
  },
  {
   "cell_type": "markdown",
   "id": "4f293c18",
   "metadata": {},
   "source": [
    "### COMPILING THE CNN"
   ]
  },
  {
   "cell_type": "code",
   "execution_count": 11,
   "id": "b6ccae82",
   "metadata": {},
   "outputs": [],
   "source": [
    "cnn.compile(optimizer='adam',loss='binary_crossentropy',metrics=['accuracy'])"
   ]
  },
  {
   "cell_type": "markdown",
   "id": "bd9720b0",
   "metadata": {},
   "source": [
    "### TRAINING THE CNN ON THE TRAINING SET AND EVALUATING IT ON THE TEST SET"
   ]
  },
  {
   "cell_type": "code",
   "execution_count": 12,
   "id": "cafe858b",
   "metadata": {},
   "outputs": [
    {
     "name": "stdout",
     "output_type": "stream",
     "text": [
      "Epoch 1/25\n",
      "250/250 [==============================] - 35s 135ms/step - loss: 0.6674 - accuracy: 0.5935 - val_loss: 0.6064 - val_accuracy: 0.6680\n",
      "Epoch 2/25\n",
      "250/250 [==============================] - 34s 134ms/step - loss: 0.5968 - accuracy: 0.6779 - val_loss: 0.5644 - val_accuracy: 0.7210\n",
      "Epoch 3/25\n",
      "250/250 [==============================] - 36s 143ms/step - loss: 0.5578 - accuracy: 0.7105 - val_loss: 0.5366 - val_accuracy: 0.7325\n",
      "Epoch 4/25\n",
      "250/250 [==============================] - 38s 153ms/step - loss: 0.5339 - accuracy: 0.7294 - val_loss: 0.5128 - val_accuracy: 0.7450\n",
      "Epoch 5/25\n",
      "250/250 [==============================] - 35s 138ms/step - loss: 0.5091 - accuracy: 0.7431 - val_loss: 0.5029 - val_accuracy: 0.7620\n",
      "Epoch 6/25\n",
      "250/250 [==============================] - 33s 133ms/step - loss: 0.4900 - accuracy: 0.7591 - val_loss: 0.4807 - val_accuracy: 0.7715\n",
      "Epoch 7/25\n",
      "250/250 [==============================] - 33s 131ms/step - loss: 0.4772 - accuracy: 0.7692 - val_loss: 0.4675 - val_accuracy: 0.7800\n",
      "Epoch 8/25\n",
      "250/250 [==============================] - 33s 131ms/step - loss: 0.4649 - accuracy: 0.7736 - val_loss: 0.4866 - val_accuracy: 0.7720\n",
      "Epoch 9/25\n",
      "250/250 [==============================] - 33s 131ms/step - loss: 0.4428 - accuracy: 0.7943 - val_loss: 0.4503 - val_accuracy: 0.7995\n",
      "Epoch 10/25\n",
      "250/250 [==============================] - 33s 131ms/step - loss: 0.4302 - accuracy: 0.7977 - val_loss: 0.4602 - val_accuracy: 0.7870\n",
      "Epoch 11/25\n",
      "250/250 [==============================] - 33s 130ms/step - loss: 0.4103 - accuracy: 0.8121 - val_loss: 0.4710 - val_accuracy: 0.7740\n",
      "Epoch 12/25\n",
      "250/250 [==============================] - 35s 139ms/step - loss: 0.3954 - accuracy: 0.8179 - val_loss: 0.4445 - val_accuracy: 0.8000\n",
      "Epoch 13/25\n",
      "250/250 [==============================] - 37s 147ms/step - loss: 0.3845 - accuracy: 0.8234 - val_loss: 0.4786 - val_accuracy: 0.7925\n",
      "Epoch 14/25\n",
      "250/250 [==============================] - 35s 142ms/step - loss: 0.3720 - accuracy: 0.8353 - val_loss: 0.4652 - val_accuracy: 0.7840\n",
      "Epoch 15/25\n",
      "250/250 [==============================] - 35s 141ms/step - loss: 0.3681 - accuracy: 0.8351 - val_loss: 0.4666 - val_accuracy: 0.7915\n",
      "Epoch 16/25\n",
      "250/250 [==============================] - 37s 146ms/step - loss: 0.3389 - accuracy: 0.8486 - val_loss: 0.4604 - val_accuracy: 0.8075\n",
      "Epoch 17/25\n",
      "250/250 [==============================] - 35s 139ms/step - loss: 0.3249 - accuracy: 0.8560 - val_loss: 0.4497 - val_accuracy: 0.8220\n",
      "Epoch 18/25\n",
      "250/250 [==============================] - 35s 142ms/step - loss: 0.3263 - accuracy: 0.8565 - val_loss: 0.5035 - val_accuracy: 0.7925\n",
      "Epoch 19/25\n",
      "250/250 [==============================] - 36s 144ms/step - loss: 0.2998 - accuracy: 0.8664 - val_loss: 0.4985 - val_accuracy: 0.7875\n",
      "Epoch 20/25\n",
      "250/250 [==============================] - 36s 144ms/step - loss: 0.2898 - accuracy: 0.8714 - val_loss: 0.4491 - val_accuracy: 0.8185\n",
      "Epoch 21/25\n",
      "250/250 [==============================] - 36s 143ms/step - loss: 0.2774 - accuracy: 0.8824 - val_loss: 0.4659 - val_accuracy: 0.8065\n",
      "Epoch 22/25\n",
      "250/250 [==============================] - 37s 147ms/step - loss: 0.2718 - accuracy: 0.8864 - val_loss: 0.4706 - val_accuracy: 0.8200\n",
      "Epoch 23/25\n",
      "250/250 [==============================] - 37s 149ms/step - loss: 0.2527 - accuracy: 0.8974 - val_loss: 0.4631 - val_accuracy: 0.8165\n",
      "Epoch 24/25\n",
      "250/250 [==============================] - 38s 152ms/step - loss: 0.2433 - accuracy: 0.8981 - val_loss: 0.4952 - val_accuracy: 0.8065\n",
      "Epoch 25/25\n",
      "250/250 [==============================] - 37s 149ms/step - loss: 0.2282 - accuracy: 0.9100 - val_loss: 0.4948 - val_accuracy: 0.8140\n"
     ]
    },
    {
     "data": {
      "text/plain": [
       "<keras.callbacks.History at 0x16124e64eb0>"
      ]
     },
     "execution_count": 12,
     "metadata": {},
     "output_type": "execute_result"
    }
   ],
   "source": [
    "cnn.fit(x=training_set,validation_data=test_set,epochs=10)"
   ]
  },
  {
   "cell_type": "markdown",
   "id": "0d0605d8",
   "metadata": {},
   "source": [
    "## PART 4- MAKING A SINGLE PREDICTION"
   ]
  },
  {
   "cell_type": "code",
   "execution_count": 21,
   "id": "4e4291e9",
   "metadata": {},
   "outputs": [
    {
     "ename": "AttributeError",
     "evalue": "module 'keras.preprocessing.image' has no attribute 'load_img'",
     "output_type": "error",
     "traceback": [
      "\u001b[1;31m---------------------------------------------------------------------------\u001b[0m",
      "\u001b[1;31mAttributeError\u001b[0m                            Traceback (most recent call last)",
      "Input \u001b[1;32mIn [21]\u001b[0m, in \u001b[0;36m<cell line: 3>\u001b[1;34m()\u001b[0m\n\u001b[0;32m      1\u001b[0m \u001b[38;5;28;01mimport\u001b[39;00m \u001b[38;5;21;01mnumpy\u001b[39;00m \u001b[38;5;28;01mas\u001b[39;00m \u001b[38;5;21;01mnp\u001b[39;00m\n\u001b[0;32m      2\u001b[0m \u001b[38;5;28;01mfrom\u001b[39;00m \u001b[38;5;21;01mkeras\u001b[39;00m\u001b[38;5;21;01m.\u001b[39;00m\u001b[38;5;21;01mpreprocessing\u001b[39;00m \u001b[38;5;28;01mimport\u001b[39;00m image\n\u001b[1;32m----> 3\u001b[0m test_image\u001b[38;5;241m=\u001b[39m\u001b[43mimage\u001b[49m\u001b[38;5;241;43m.\u001b[39;49m\u001b[43mload_img\u001b[49m(\u001b[38;5;124m'\u001b[39m\u001b[38;5;124mdataset/single_prediction/cat_or_dog_1.jpg\u001b[39m\u001b[38;5;124m'\u001b[39m,target_size(\u001b[38;5;241m64\u001b[39m,\u001b[38;5;241m64\u001b[39m))\n\u001b[0;32m      4\u001b[0m test_image\u001b[38;5;241m=\u001b[39mimage\u001b[38;5;241m.\u001b[39mimg_to_array(test_image)\n\u001b[0;32m      5\u001b[0m test_image\u001b[38;5;241m=\u001b[39mnp\u001b[38;5;241m.\u001b[39mexpand_dims(test_image,axis\u001b[38;5;241m=\u001b[39m\u001b[38;5;241m0\u001b[39m)\n",
      "\u001b[1;31mAttributeError\u001b[0m: module 'keras.preprocessing.image' has no attribute 'load_img'"
     ]
    }
   ],
   "source": [
    "import numpy as np\n",
    "from keras.preprocessing import image\n",
    "test_image=image.load_img('dataset/single_prediction/cat_or_dog_1.jpg',target_size(64,64))\n",
    "test_image=image.img_to_array(test_image)\n",
    "test_image=np.expand_dims(test_image,axis=0)\n",
    "result=cnn.predict(test_image)\n",
    "training_set.class_indices\n",
    "if result[0][0]==1:\n",
    "    prediction='dog'\n",
    "else:\n",
    "    prediction='cat'\n",
    "print(prediction)"
   ]
  },
  {
   "cell_type": "code",
   "execution_count": null,
   "id": "1669f549",
   "metadata": {},
   "outputs": [],
   "source": []
  }
 ],
 "metadata": {
  "kernelspec": {
   "display_name": "Python 3 (ipykernel)",
   "language": "python",
   "name": "python3"
  },
  "language_info": {
   "codemirror_mode": {
    "name": "ipython",
    "version": 3
   },
   "file_extension": ".py",
   "mimetype": "text/x-python",
   "name": "python",
   "nbconvert_exporter": "python",
   "pygments_lexer": "ipython3",
   "version": "3.9.12"
  }
 },
 "nbformat": 4,
 "nbformat_minor": 5
}
