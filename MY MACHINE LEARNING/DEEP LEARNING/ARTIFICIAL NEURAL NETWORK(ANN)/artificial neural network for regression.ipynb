{
 "cells": [
  {
   "cell_type": "markdown",
   "id": "18e868be",
   "metadata": {},
   "source": [
    "# ARTIFICIAL NEURAL NETWORK FOR REGRESSION"
   ]
  },
  {
   "cell_type": "markdown",
   "id": "7b66cacb",
   "metadata": {},
   "source": [
    "## IMPORTING LIBRARIES"
   ]
  },
  {
   "cell_type": "code",
   "execution_count": 1,
   "id": "7d665a31",
   "metadata": {},
   "outputs": [],
   "source": [
    "import numpy as np\n",
    "import tensorflow as tf\n",
    "import pandas as pd"
   ]
  },
  {
   "cell_type": "markdown",
   "id": "c7918283",
   "metadata": {},
   "source": [
    "#  PART 1-DATA PREPROCESSING"
   ]
  },
  {
   "cell_type": "markdown",
   "id": "ceb8e759",
   "metadata": {},
   "source": [
    "## IMPORTING THE DATASET"
   ]
  },
  {
   "cell_type": "code",
   "execution_count": 3,
   "id": "e5482de8",
   "metadata": {},
   "outputs": [
    {
     "data": {
      "text/html": [
       "<div>\n",
       "<style scoped>\n",
       "    .dataframe tbody tr th:only-of-type {\n",
       "        vertical-align: middle;\n",
       "    }\n",
       "\n",
       "    .dataframe tbody tr th {\n",
       "        vertical-align: top;\n",
       "    }\n",
       "\n",
       "    .dataframe thead th {\n",
       "        text-align: right;\n",
       "    }\n",
       "</style>\n",
       "<table border=\"1\" class=\"dataframe\">\n",
       "  <thead>\n",
       "    <tr style=\"text-align: right;\">\n",
       "      <th></th>\n",
       "      <th>AT</th>\n",
       "      <th>V</th>\n",
       "      <th>AP</th>\n",
       "      <th>RH</th>\n",
       "      <th>PE</th>\n",
       "    </tr>\n",
       "  </thead>\n",
       "  <tbody>\n",
       "    <tr>\n",
       "      <th>0</th>\n",
       "      <td>14.96</td>\n",
       "      <td>41.76</td>\n",
       "      <td>1024.07</td>\n",
       "      <td>73.17</td>\n",
       "      <td>463.26</td>\n",
       "    </tr>\n",
       "    <tr>\n",
       "      <th>1</th>\n",
       "      <td>25.18</td>\n",
       "      <td>62.96</td>\n",
       "      <td>1020.04</td>\n",
       "      <td>59.08</td>\n",
       "      <td>444.37</td>\n",
       "    </tr>\n",
       "    <tr>\n",
       "      <th>2</th>\n",
       "      <td>5.11</td>\n",
       "      <td>39.40</td>\n",
       "      <td>1012.16</td>\n",
       "      <td>92.14</td>\n",
       "      <td>488.56</td>\n",
       "    </tr>\n",
       "    <tr>\n",
       "      <th>3</th>\n",
       "      <td>20.86</td>\n",
       "      <td>57.32</td>\n",
       "      <td>1010.24</td>\n",
       "      <td>76.64</td>\n",
       "      <td>446.48</td>\n",
       "    </tr>\n",
       "    <tr>\n",
       "      <th>4</th>\n",
       "      <td>10.82</td>\n",
       "      <td>37.50</td>\n",
       "      <td>1009.23</td>\n",
       "      <td>96.62</td>\n",
       "      <td>473.90</td>\n",
       "    </tr>\n",
       "    <tr>\n",
       "      <th>...</th>\n",
       "      <td>...</td>\n",
       "      <td>...</td>\n",
       "      <td>...</td>\n",
       "      <td>...</td>\n",
       "      <td>...</td>\n",
       "    </tr>\n",
       "    <tr>\n",
       "      <th>9563</th>\n",
       "      <td>16.65</td>\n",
       "      <td>49.69</td>\n",
       "      <td>1014.01</td>\n",
       "      <td>91.00</td>\n",
       "      <td>460.03</td>\n",
       "    </tr>\n",
       "    <tr>\n",
       "      <th>9564</th>\n",
       "      <td>13.19</td>\n",
       "      <td>39.18</td>\n",
       "      <td>1023.67</td>\n",
       "      <td>66.78</td>\n",
       "      <td>469.62</td>\n",
       "    </tr>\n",
       "    <tr>\n",
       "      <th>9565</th>\n",
       "      <td>31.32</td>\n",
       "      <td>74.33</td>\n",
       "      <td>1012.92</td>\n",
       "      <td>36.48</td>\n",
       "      <td>429.57</td>\n",
       "    </tr>\n",
       "    <tr>\n",
       "      <th>9566</th>\n",
       "      <td>24.48</td>\n",
       "      <td>69.45</td>\n",
       "      <td>1013.86</td>\n",
       "      <td>62.39</td>\n",
       "      <td>435.74</td>\n",
       "    </tr>\n",
       "    <tr>\n",
       "      <th>9567</th>\n",
       "      <td>21.60</td>\n",
       "      <td>62.52</td>\n",
       "      <td>1017.23</td>\n",
       "      <td>67.87</td>\n",
       "      <td>453.28</td>\n",
       "    </tr>\n",
       "  </tbody>\n",
       "</table>\n",
       "<p>9568 rows × 5 columns</p>\n",
       "</div>"
      ],
      "text/plain": [
       "         AT      V       AP     RH      PE\n",
       "0     14.96  41.76  1024.07  73.17  463.26\n",
       "1     25.18  62.96  1020.04  59.08  444.37\n",
       "2      5.11  39.40  1012.16  92.14  488.56\n",
       "3     20.86  57.32  1010.24  76.64  446.48\n",
       "4     10.82  37.50  1009.23  96.62  473.90\n",
       "...     ...    ...      ...    ...     ...\n",
       "9563  16.65  49.69  1014.01  91.00  460.03\n",
       "9564  13.19  39.18  1023.67  66.78  469.62\n",
       "9565  31.32  74.33  1012.92  36.48  429.57\n",
       "9566  24.48  69.45  1013.86  62.39  435.74\n",
       "9567  21.60  62.52  1017.23  67.87  453.28\n",
       "\n",
       "[9568 rows x 5 columns]"
      ]
     },
     "execution_count": 3,
     "metadata": {},
     "output_type": "execute_result"
    }
   ],
   "source": [
    "dataset=pd.read_excel('Folds5x2_pp.xlsx')\n",
    "dataset"
   ]
  },
  {
   "cell_type": "code",
   "execution_count": 4,
   "id": "34b028f4",
   "metadata": {},
   "outputs": [],
   "source": [
    "x=dataset.iloc[:,:-1].values\n",
    "y=dataset.iloc[:,-1].values"
   ]
  },
  {
   "cell_type": "markdown",
   "id": "0be35389",
   "metadata": {},
   "source": [
    "## SPLITTING THE DATASET"
   ]
  },
  {
   "cell_type": "code",
   "execution_count": 5,
   "id": "994ded68",
   "metadata": {},
   "outputs": [],
   "source": [
    "from sklearn.model_selection import train_test_split\n",
    "x_train,x_test,y_train,y_test=train_test_split(x,y,test_size=0.2,random_state=0)"
   ]
  },
  {
   "cell_type": "markdown",
   "id": "11b09e7c",
   "metadata": {},
   "source": [
    "# PART 2 -BUILDING THE ANN"
   ]
  },
  {
   "cell_type": "markdown",
   "id": "1cf713e3",
   "metadata": {},
   "source": [
    "## INITIALISING THE ANN"
   ]
  },
  {
   "cell_type": "code",
   "execution_count": 6,
   "id": "41aefdb6",
   "metadata": {},
   "outputs": [],
   "source": [
    "ann=tf.keras.models.Sequential()"
   ]
  },
  {
   "cell_type": "markdown",
   "id": "587c9b42",
   "metadata": {},
   "source": [
    "## ADDING THE INPUT LAYER AND FIRST HIDDEN LAYER"
   ]
  },
  {
   "cell_type": "code",
   "execution_count": 7,
   "id": "de623220",
   "metadata": {},
   "outputs": [],
   "source": [
    "ann.add(tf.keras.layers.Dense(units=6,activation='relu'))"
   ]
  },
  {
   "cell_type": "markdown",
   "id": "06b14e52",
   "metadata": {},
   "source": [
    "## ADDING THE SECOND HIDDEN LAYER"
   ]
  },
  {
   "cell_type": "code",
   "execution_count": 8,
   "id": "7624defc",
   "metadata": {},
   "outputs": [],
   "source": [
    "ann.add(tf.keras.layers.Dense(units=6,activation='relu'))"
   ]
  },
  {
   "cell_type": "markdown",
   "id": "43b932b2",
   "metadata": {},
   "source": [
    "## ADDING THE OUTPUT LAYER"
   ]
  },
  {
   "cell_type": "code",
   "execution_count": 9,
   "id": "8de482e4",
   "metadata": {},
   "outputs": [],
   "source": [
    "ann.add(tf.keras.layers.Dense(units=1))"
   ]
  },
  {
   "cell_type": "markdown",
   "id": "7b384749",
   "metadata": {},
   "source": [
    "# PART 3- TRAINING THE ANN "
   ]
  },
  {
   "cell_type": "markdown",
   "id": "fba72606",
   "metadata": {},
   "source": [
    "## COMPILING THE ANN"
   ]
  },
  {
   "cell_type": "code",
   "execution_count": 10,
   "id": "5e0d8eba",
   "metadata": {},
   "outputs": [],
   "source": [
    "ann.compile(optimizer='adam',loss='mean_squared_error')"
   ]
  },
  {
   "cell_type": "markdown",
   "id": "622919dc",
   "metadata": {},
   "source": [
    "## TRAINING THE ANN MODEL ON TRAINING SET"
   ]
  },
  {
   "cell_type": "code",
   "execution_count": 11,
   "id": "1e8087ec",
   "metadata": {},
   "outputs": [
    {
     "name": "stdout",
     "output_type": "stream",
     "text": [
      "Epoch 1/100\n",
      "240/240 [==============================] - 1s 1ms/step - loss: 537.6079\n",
      "Epoch 2/100\n",
      "240/240 [==============================] - 0s 854us/step - loss: 143.6803\n",
      "Epoch 3/100\n",
      "240/240 [==============================] - 0s 845us/step - loss: 128.7039\n",
      "Epoch 4/100\n",
      "240/240 [==============================] - 0s 874us/step - loss: 113.5345\n",
      "Epoch 5/100\n",
      "240/240 [==============================] - 0s 1ms/step - loss: 99.9222\n",
      "Epoch 6/100\n",
      "240/240 [==============================] - 0s 1ms/step - loss: 87.0834\n",
      "Epoch 7/100\n",
      "240/240 [==============================] - 0s 997us/step - loss: 76.0083\n",
      "Epoch 8/100\n",
      "240/240 [==============================] - 0s 877us/step - loss: 67.5945\n",
      "Epoch 9/100\n",
      "240/240 [==============================] - 0s 854us/step - loss: 60.5194\n",
      "Epoch 10/100\n",
      "240/240 [==============================] - 0s 838us/step - loss: 54.8741\n",
      "Epoch 11/100\n",
      "240/240 [==============================] - 0s 825us/step - loss: 50.8878\n",
      "Epoch 12/100\n",
      "240/240 [==============================] - 0s 815us/step - loss: 48.4766\n",
      "Epoch 13/100\n",
      "240/240 [==============================] - 0s 820us/step - loss: 47.0362\n",
      "Epoch 14/100\n",
      "240/240 [==============================] - 0s 834us/step - loss: 43.3929\n",
      "Epoch 15/100\n",
      "240/240 [==============================] - 0s 840us/step - loss: 42.3651\n",
      "Epoch 16/100\n",
      "240/240 [==============================] - 0s 937us/step - loss: 40.8660\n",
      "Epoch 17/100\n",
      "240/240 [==============================] - 0s 867us/step - loss: 39.3060\n",
      "Epoch 18/100\n",
      "240/240 [==============================] - 0s 839us/step - loss: 38.6061\n",
      "Epoch 19/100\n",
      "240/240 [==============================] - 0s 816us/step - loss: 37.9612\n",
      "Epoch 20/100\n",
      "240/240 [==============================] - 0s 816us/step - loss: 36.3156\n",
      "Epoch 21/100\n",
      "240/240 [==============================] - 0s 859us/step - loss: 35.2067\n",
      "Epoch 22/100\n",
      "240/240 [==============================] - 0s 829us/step - loss: 35.4135\n",
      "Epoch 23/100\n",
      "240/240 [==============================] - 0s 817us/step - loss: 34.4449\n",
      "Epoch 24/100\n",
      "240/240 [==============================] - 0s 1ms/step - loss: 33.3695\n",
      "Epoch 25/100\n",
      "240/240 [==============================] - 0s 928us/step - loss: 34.0681\n",
      "Epoch 26/100\n",
      "240/240 [==============================] - 0s 890us/step - loss: 31.7120\n",
      "Epoch 27/100\n",
      "240/240 [==============================] - 0s 862us/step - loss: 31.6843\n",
      "Epoch 28/100\n",
      "240/240 [==============================] - 0s 855us/step - loss: 31.7558\n",
      "Epoch 29/100\n",
      "240/240 [==============================] - 0s 883us/step - loss: 31.2487\n",
      "Epoch 30/100\n",
      "240/240 [==============================] - 0s 1ms/step - loss: 31.5249\n",
      "Epoch 31/100\n",
      "240/240 [==============================] - 0s 905us/step - loss: 30.7604\n",
      "Epoch 32/100\n",
      "240/240 [==============================] - 0s 862us/step - loss: 30.4556\n",
      "Epoch 33/100\n",
      "240/240 [==============================] - 0s 839us/step - loss: 29.4005\n",
      "Epoch 34/100\n",
      "240/240 [==============================] - 0s 859us/step - loss: 29.1020\n",
      "Epoch 35/100\n",
      "240/240 [==============================] - 0s 858us/step - loss: 28.6525\n",
      "Epoch 36/100\n",
      "240/240 [==============================] - 0s 825us/step - loss: 28.7378\n",
      "Epoch 37/100\n",
      "240/240 [==============================] - 0s 869us/step - loss: 29.1954\n",
      "Epoch 38/100\n",
      "240/240 [==============================] - 0s 826us/step - loss: 28.4480\n",
      "Epoch 39/100\n",
      "240/240 [==============================] - 0s 863us/step - loss: 28.2784\n",
      "Epoch 40/100\n",
      "240/240 [==============================] - 0s 840us/step - loss: 28.8601\n",
      "Epoch 41/100\n",
      "240/240 [==============================] - 0s 829us/step - loss: 28.5087\n",
      "Epoch 42/100\n",
      "240/240 [==============================] - 0s 856us/step - loss: 28.3712\n",
      "Epoch 43/100\n",
      "240/240 [==============================] - 0s 838us/step - loss: 28.4054\n",
      "Epoch 44/100\n",
      "240/240 [==============================] - 0s 846us/step - loss: 28.7546\n",
      "Epoch 45/100\n",
      "240/240 [==============================] - 0s 828us/step - loss: 28.0639\n",
      "Epoch 46/100\n",
      "240/240 [==============================] - 0s 824us/step - loss: 28.6536\n",
      "Epoch 47/100\n",
      "240/240 [==============================] - 0s 875us/step - loss: 27.3555\n",
      "Epoch 48/100\n",
      "240/240 [==============================] - 0s 834us/step - loss: 27.7690\n",
      "Epoch 49/100\n",
      "240/240 [==============================] - 0s 841us/step - loss: 27.0516\n",
      "Epoch 50/100\n",
      "240/240 [==============================] - 0s 934us/step - loss: 27.9144\n",
      "Epoch 51/100\n",
      "240/240 [==============================] - 0s 1ms/step - loss: 28.6469\n",
      "Epoch 52/100\n",
      "240/240 [==============================] - 0s 1ms/step - loss: 26.8307\n",
      "Epoch 53/100\n",
      "240/240 [==============================] - 0s 865us/step - loss: 27.7164\n",
      "Epoch 54/100\n",
      "240/240 [==============================] - 0s 842us/step - loss: 28.7638\n",
      "Epoch 55/100\n",
      "240/240 [==============================] - 0s 843us/step - loss: 28.4941\n",
      "Epoch 56/100\n",
      "240/240 [==============================] - 0s 839us/step - loss: 27.5153\n",
      "Epoch 57/100\n",
      "240/240 [==============================] - 0s 896us/step - loss: 27.3491\n",
      "Epoch 58/100\n",
      "240/240 [==============================] - 0s 862us/step - loss: 27.3097\n",
      "Epoch 59/100\n",
      "240/240 [==============================] - 0s 834us/step - loss: 26.8299\n",
      "Epoch 60/100\n",
      "240/240 [==============================] - 0s 827us/step - loss: 27.8397\n",
      "Epoch 61/100\n",
      "240/240 [==============================] - 0s 838us/step - loss: 28.0880\n",
      "Epoch 62/100\n",
      "240/240 [==============================] - 0s 834us/step - loss: 28.0715\n",
      "Epoch 63/100\n",
      "240/240 [==============================] - 0s 841us/step - loss: 27.6164\n",
      "Epoch 64/100\n",
      "240/240 [==============================] - 0s 840us/step - loss: 27.6771\n",
      "Epoch 65/100\n",
      "240/240 [==============================] - 0s 837us/step - loss: 27.1866\n",
      "Epoch 66/100\n",
      "240/240 [==============================] - 0s 837us/step - loss: 27.4948\n",
      "Epoch 67/100\n",
      "240/240 [==============================] - 0s 865us/step - loss: 27.6940\n",
      "Epoch 68/100\n",
      "240/240 [==============================] - 0s 953us/step - loss: 26.3859\n",
      "Epoch 69/100\n",
      "240/240 [==============================] - 0s 1ms/step - loss: 27.1430\n",
      "Epoch 70/100\n",
      "240/240 [==============================] - 0s 967us/step - loss: 27.0006\n",
      "Epoch 71/100\n",
      "240/240 [==============================] - 0s 1ms/step - loss: 28.7205\n",
      "Epoch 72/100\n",
      "240/240 [==============================] - 0s 891us/step - loss: 27.2059\n",
      "Epoch 73/100\n",
      "240/240 [==============================] - 0s 1ms/step - loss: 28.2995\n",
      "Epoch 74/100\n",
      "240/240 [==============================] - 0s 1ms/step - loss: 27.9319\n",
      "Epoch 75/100\n",
      "240/240 [==============================] - 0s 963us/step - loss: 27.9926\n",
      "Epoch 76/100\n",
      "240/240 [==============================] - 0s 933us/step - loss: 27.1657\n",
      "Epoch 77/100\n",
      "240/240 [==============================] - 0s 877us/step - loss: 27.0780\n",
      "Epoch 78/100\n",
      "240/240 [==============================] - 0s 951us/step - loss: 27.2692\n",
      "Epoch 79/100\n",
      "240/240 [==============================] - 0s 940us/step - loss: 28.1159\n",
      "Epoch 80/100\n",
      "240/240 [==============================] - 0s 890us/step - loss: 28.4697\n",
      "Epoch 81/100\n",
      "240/240 [==============================] - 0s 1ms/step - loss: 27.5863\n",
      "Epoch 82/100\n",
      "240/240 [==============================] - 0s 967us/step - loss: 27.1781\n",
      "Epoch 83/100\n",
      "240/240 [==============================] - 0s 1ms/step - loss: 27.4373\n",
      "Epoch 84/100\n",
      "240/240 [==============================] - 0s 940us/step - loss: 27.8429\n",
      "Epoch 85/100\n",
      "240/240 [==============================] - 0s 1ms/step - loss: 27.3210\n",
      "Epoch 86/100\n",
      "240/240 [==============================] - 0s 1ms/step - loss: 27.3533\n",
      "Epoch 87/100\n",
      "240/240 [==============================] - 0s 1ms/step - loss: 27.2006\n",
      "Epoch 88/100\n",
      "240/240 [==============================] - 0s 1ms/step - loss: 27.3044\n",
      "Epoch 89/100\n",
      "240/240 [==============================] - 0s 995us/step - loss: 27.5764\n",
      "Epoch 90/100\n",
      "240/240 [==============================] - 0s 990us/step - loss: 27.3676\n",
      "Epoch 91/100\n",
      "240/240 [==============================] - 0s 1ms/step - loss: 27.1661\n",
      "Epoch 92/100\n",
      "240/240 [==============================] - 0s 1ms/step - loss: 28.2682\n",
      "Epoch 93/100\n",
      "240/240 [==============================] - 0s 906us/step - loss: 27.3966\n",
      "Epoch 94/100\n",
      "240/240 [==============================] - 0s 1ms/step - loss: 27.2341\n",
      "Epoch 95/100\n",
      "240/240 [==============================] - 0s 1ms/step - loss: 27.3181\n",
      "Epoch 96/100\n"
     ]
    },
    {
     "name": "stdout",
     "output_type": "stream",
     "text": [
      "240/240 [==============================] - 0s 925us/step - loss: 27.6706\n",
      "Epoch 97/100\n",
      "240/240 [==============================] - 0s 828us/step - loss: 26.8448\n",
      "Epoch 98/100\n",
      "240/240 [==============================] - 0s 844us/step - loss: 27.2901\n",
      "Epoch 99/100\n",
      "240/240 [==============================] - 0s 1ms/step - loss: 27.1414\n",
      "Epoch 100/100\n",
      "240/240 [==============================] - 0s 1ms/step - loss: 27.3877\n"
     ]
    },
    {
     "data": {
      "text/plain": [
       "<keras.callbacks.History at 0x1d07727ebe0>"
      ]
     },
     "execution_count": 11,
     "metadata": {},
     "output_type": "execute_result"
    }
   ],
   "source": [
    "ann.fit(x_train,y_train,batch_size=32,epochs=100)"
   ]
  },
  {
   "cell_type": "markdown",
   "id": "d8edced8",
   "metadata": {},
   "source": [
    "# PART 4- PREDICTING "
   ]
  },
  {
   "cell_type": "code",
   "execution_count": 12,
   "id": "484f70bf",
   "metadata": {},
   "outputs": [
    {
     "name": "stdout",
     "output_type": "stream",
     "text": [
      "60/60 [==============================] - 0s 798us/step\n"
     ]
    }
   ],
   "source": [
    "y_pred=ann.predict(x_test)"
   ]
  },
  {
   "cell_type": "code",
   "execution_count": 13,
   "id": "fd341eff",
   "metadata": {},
   "outputs": [
    {
     "data": {
      "text/plain": [
       "array([[430.8111 ],\n",
       "       [461.85587],\n",
       "       [465.3339 ],\n",
       "       ...,\n",
       "       [472.61398],\n",
       "       [439.34317],\n",
       "       [458.58545]], dtype=float32)"
      ]
     },
     "execution_count": 13,
     "metadata": {},
     "output_type": "execute_result"
    }
   ],
   "source": [
    "y_pred"
   ]
  },
  {
   "cell_type": "code",
   "execution_count": 14,
   "id": "a6f063d1",
   "metadata": {},
   "outputs": [],
   "source": [
    "np.set_printoptions(precision=2)"
   ]
  },
  {
   "cell_type": "code",
   "execution_count": 15,
   "id": "b69c4522",
   "metadata": {},
   "outputs": [
    {
     "name": "stdout",
     "output_type": "stream",
     "text": [
      "[[430.81 431.23]\n",
      " [461.86 460.01]\n",
      " [465.33 461.14]\n",
      " ...\n",
      " [472.61 473.26]\n",
      " [439.34 438.  ]\n",
      " [458.59 463.28]]\n"
     ]
    }
   ],
   "source": [
    "print(np.concatenate((y_pred.reshape(len(y_pred),1),y_test.reshape(len(y_test),1)),1))"
   ]
  },
  {
   "cell_type": "markdown",
   "id": "716c01a5",
   "metadata": {},
   "source": [
    "## EVALUATING THE PERFORMANCE"
   ]
  },
  {
   "cell_type": "code",
   "execution_count": 17,
   "id": "e95a9a41",
   "metadata": {},
   "outputs": [
    {
     "data": {
      "text/plain": [
       "0.9151963917379907"
      ]
     },
     "execution_count": 17,
     "metadata": {},
     "output_type": "execute_result"
    }
   ],
   "source": [
    "from sklearn.metrics import r2_score\n",
    "r2_score(y_test,y_pred)"
   ]
  }
 ],
 "metadata": {
  "kernelspec": {
   "display_name": "Python 3 (ipykernel)",
   "language": "python",
   "name": "python3"
  },
  "language_info": {
   "codemirror_mode": {
    "name": "ipython",
    "version": 3
   },
   "file_extension": ".py",
   "mimetype": "text/x-python",
   "name": "python",
   "nbconvert_exporter": "python",
   "pygments_lexer": "ipython3",
   "version": "3.9.12"
  }
 },
 "nbformat": 4,
 "nbformat_minor": 5
}
