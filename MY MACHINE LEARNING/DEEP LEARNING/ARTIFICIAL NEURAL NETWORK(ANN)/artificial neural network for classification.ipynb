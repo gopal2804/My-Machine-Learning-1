{
 "cells": [
  {
   "cell_type": "markdown",
   "id": "c11edffe",
   "metadata": {},
   "source": [
    "# ARTIFICIAL NEURAL NETWORS(ANN)"
   ]
  },
  {
   "cell_type": "markdown",
   "id": "ba6b9668",
   "metadata": {},
   "source": [
    "## IMPORTING THE LIBRARIES"
   ]
  },
  {
   "cell_type": "code",
   "execution_count": 2,
   "id": "ae25d8b2",
   "metadata": {},
   "outputs": [
    {
     "name": "stdout",
     "output_type": "stream",
     "text": [
      "Requirement already satisfied: tensorflow in c:\\users\\gopal\\anaconda3\\lib\\site-packages (2.9.1)\n",
      "Requirement already satisfied: grpcio<2.0,>=1.24.3 in c:\\users\\gopal\\anaconda3\\lib\\site-packages (from tensorflow) (1.42.0)\n",
      "Requirement already satisfied: keras-preprocessing>=1.1.1 in c:\\users\\gopal\\anaconda3\\lib\\site-packages (from tensorflow) (1.1.2)\n",
      "Requirement already satisfied: wrapt>=1.11.0 in c:\\users\\gopal\\anaconda3\\lib\\site-packages (from tensorflow) (1.12.1)\n",
      "Requirement already satisfied: keras<2.10.0,>=2.9.0rc0 in c:\\users\\gopal\\anaconda3\\lib\\site-packages (from tensorflow) (2.9.0)\n",
      "Requirement already satisfied: google-pasta>=0.1.1 in c:\\users\\gopal\\anaconda3\\lib\\site-packages (from tensorflow) (0.2.0)\n",
      "Requirement already satisfied: tensorflow-estimator<2.10.0,>=2.9.0rc0 in c:\\users\\gopal\\anaconda3\\lib\\site-packages (from tensorflow) (2.9.0)\n",
      "Requirement already satisfied: gast<=0.4.0,>=0.2.1 in c:\\users\\gopal\\anaconda3\\lib\\site-packages (from tensorflow) (0.4.0)\n",
      "Requirement already satisfied: flatbuffers<2,>=1.12 in c:\\users\\gopal\\anaconda3\\lib\\site-packages (from tensorflow) (1.12)\n",
      "Requirement already satisfied: packaging in c:\\users\\gopal\\anaconda3\\lib\\site-packages (from tensorflow) (21.3)\n",
      "Requirement already satisfied: protobuf<3.20,>=3.9.2 in c:\\users\\gopal\\anaconda3\\lib\\site-packages (from tensorflow) (3.19.1)\n",
      "Requirement already satisfied: numpy>=1.20 in c:\\users\\gopal\\anaconda3\\lib\\site-packages (from tensorflow) (1.21.5)\n",
      "Requirement already satisfied: termcolor>=1.1.0 in c:\\users\\gopal\\anaconda3\\lib\\site-packages (from tensorflow) (1.1.0)\n",
      "Requirement already satisfied: libclang>=13.0.0 in c:\\users\\gopal\\anaconda3\\lib\\site-packages (from tensorflow) (14.0.1)\n",
      "Requirement already satisfied: h5py>=2.9.0 in c:\\users\\gopal\\anaconda3\\lib\\site-packages (from tensorflow) (3.6.0)\n",
      "Requirement already satisfied: absl-py>=1.0.0 in c:\\users\\gopal\\anaconda3\\lib\\site-packages (from tensorflow) (1.1.0)\n",
      "Requirement already satisfied: astunparse>=1.6.0 in c:\\users\\gopal\\anaconda3\\lib\\site-packages (from tensorflow) (1.6.3)\n",
      "Requirement already satisfied: opt-einsum>=2.3.2 in c:\\users\\gopal\\anaconda3\\lib\\site-packages (from tensorflow) (3.3.0)\n",
      "Requirement already satisfied: six>=1.12.0 in c:\\users\\gopal\\anaconda3\\lib\\site-packages (from tensorflow) (1.16.0)\n",
      "Requirement already satisfied: tensorboard<2.10,>=2.9 in c:\\users\\gopal\\anaconda3\\lib\\site-packages (from tensorflow) (2.9.1)\n",
      "Requirement already satisfied: tensorflow-io-gcs-filesystem>=0.23.1 in c:\\users\\gopal\\anaconda3\\lib\\site-packages (from tensorflow) (0.26.0)\n",
      "Requirement already satisfied: setuptools in c:\\users\\gopal\\anaconda3\\lib\\site-packages (from tensorflow) (61.2.0)\n",
      "Requirement already satisfied: typing-extensions>=3.6.6 in c:\\users\\gopal\\anaconda3\\lib\\site-packages (from tensorflow) (4.1.1)\n",
      "Requirement already satisfied: wheel<1.0,>=0.23.0 in c:\\users\\gopal\\anaconda3\\lib\\site-packages (from astunparse>=1.6.0->tensorflow) (0.37.1)\n",
      "Requirement already satisfied: tensorboard-data-server<0.7.0,>=0.6.0 in c:\\users\\gopal\\anaconda3\\lib\\site-packages (from tensorboard<2.10,>=2.9->tensorflow) (0.6.1)\n",
      "Requirement already satisfied: google-auth<3,>=1.6.3 in c:\\users\\gopal\\anaconda3\\lib\\site-packages (from tensorboard<2.10,>=2.9->tensorflow) (1.33.0)\n",
      "Requirement already satisfied: tensorboard-plugin-wit>=1.6.0 in c:\\users\\gopal\\anaconda3\\lib\\site-packages (from tensorboard<2.10,>=2.9->tensorflow) (1.8.1)\n",
      "Requirement already satisfied: markdown>=2.6.8 in c:\\users\\gopal\\anaconda3\\lib\\site-packages (from tensorboard<2.10,>=2.9->tensorflow) (3.3.4)\n",
      "Requirement already satisfied: google-auth-oauthlib<0.5,>=0.4.1 in c:\\users\\gopal\\anaconda3\\lib\\site-packages (from tensorboard<2.10,>=2.9->tensorflow) (0.4.6)\n",
      "Requirement already satisfied: werkzeug>=1.0.1 in c:\\users\\gopal\\anaconda3\\lib\\site-packages (from tensorboard<2.10,>=2.9->tensorflow) (2.0.3)\n",
      "Requirement already satisfied: requests<3,>=2.21.0 in c:\\users\\gopal\\anaconda3\\lib\\site-packages (from tensorboard<2.10,>=2.9->tensorflow) (2.27.1)\n",
      "Requirement already satisfied: pyasn1-modules>=0.2.1 in c:\\users\\gopal\\anaconda3\\lib\\site-packages (from google-auth<3,>=1.6.3->tensorboard<2.10,>=2.9->tensorflow) (0.2.8)\n",
      "Requirement already satisfied: rsa<5,>=3.1.4 in c:\\users\\gopal\\anaconda3\\lib\\site-packages (from google-auth<3,>=1.6.3->tensorboard<2.10,>=2.9->tensorflow) (4.7.2)\n",
      "Requirement already satisfied: cachetools<5.0,>=2.0.0 in c:\\users\\gopal\\anaconda3\\lib\\site-packages (from google-auth<3,>=1.6.3->tensorboard<2.10,>=2.9->tensorflow) (4.2.2)\n",
      "Requirement already satisfied: requests-oauthlib>=0.7.0 in c:\\users\\gopal\\anaconda3\\lib\\site-packages (from google-auth-oauthlib<0.5,>=0.4.1->tensorboard<2.10,>=2.9->tensorflow) (1.3.1)\n",
      "Requirement already satisfied: pyasn1<0.5.0,>=0.4.6 in c:\\users\\gopal\\anaconda3\\lib\\site-packages (from pyasn1-modules>=0.2.1->google-auth<3,>=1.6.3->tensorboard<2.10,>=2.9->tensorflow) (0.4.8)\n",
      "Requirement already satisfied: certifi>=2017.4.17 in c:\\users\\gopal\\anaconda3\\lib\\site-packages (from requests<3,>=2.21.0->tensorboard<2.10,>=2.9->tensorflow) (2021.10.8)\n",
      "Requirement already satisfied: urllib3<1.27,>=1.21.1 in c:\\users\\gopal\\anaconda3\\lib\\site-packages (from requests<3,>=2.21.0->tensorboard<2.10,>=2.9->tensorflow) (1.26.9)\n",
      "Requirement already satisfied: idna<4,>=2.5 in c:\\users\\gopal\\anaconda3\\lib\\site-packages (from requests<3,>=2.21.0->tensorboard<2.10,>=2.9->tensorflow) (3.3)\n",
      "Requirement already satisfied: charset-normalizer~=2.0.0 in c:\\users\\gopal\\anaconda3\\lib\\site-packages (from requests<3,>=2.21.0->tensorboard<2.10,>=2.9->tensorflow) (2.0.4)\n",
      "Requirement already satisfied: oauthlib>=3.0.0 in c:\\users\\gopal\\anaconda3\\lib\\site-packages (from requests-oauthlib>=0.7.0->google-auth-oauthlib<0.5,>=0.4.1->tensorboard<2.10,>=2.9->tensorflow) (3.2.0)\n",
      "Requirement already satisfied: pyparsing!=3.0.5,>=2.0.2 in c:\\users\\gopal\\anaconda3\\lib\\site-packages (from packaging->tensorflow) (3.0.4)\n"
     ]
    }
   ],
   "source": [
    "!pip install tensorflow"
   ]
  },
  {
   "cell_type": "code",
   "execution_count": 3,
   "id": "00864b4f",
   "metadata": {},
   "outputs": [],
   "source": [
    "import pandas as pd\n",
    "import numpy as np\n",
    "import tensorflow as tf"
   ]
  },
  {
   "cell_type": "code",
   "execution_count": 4,
   "id": "4625300b",
   "metadata": {},
   "outputs": [
    {
     "data": {
      "text/plain": [
       "'2.9.1'"
      ]
     },
     "execution_count": 4,
     "metadata": {},
     "output_type": "execute_result"
    }
   ],
   "source": [
    "tf.__version__"
   ]
  },
  {
   "cell_type": "markdown",
   "id": "d5a5a62b",
   "metadata": {},
   "source": [
    "# Part 1- DATA PREPROCESSING"
   ]
  },
  {
   "cell_type": "markdown",
   "id": "79d021a1",
   "metadata": {},
   "source": [
    "## IMPORTING THE DATASET"
   ]
  },
  {
   "cell_type": "code",
   "execution_count": 5,
   "id": "3318b8e6",
   "metadata": {},
   "outputs": [],
   "source": [
    "dataset=pd.read_csv('Churn_Modelling.csv')\n",
    "x=dataset.iloc[:,3:-1].values\n",
    "y=dataset.iloc[:,-1].values"
   ]
  },
  {
   "cell_type": "markdown",
   "id": "cff4dd86",
   "metadata": {},
   "source": [
    "dataset"
   ]
  },
  {
   "cell_type": "code",
   "execution_count": 7,
   "id": "4c6d1103",
   "metadata": {},
   "outputs": [
    {
     "name": "stdout",
     "output_type": "stream",
     "text": [
      "[[619 'France' 'Female' ... 1 1 101348.88]\n",
      " [608 'Spain' 'Female' ... 0 1 112542.58]\n",
      " [502 'France' 'Female' ... 1 0 113931.57]\n",
      " ...\n",
      " [709 'France' 'Female' ... 0 1 42085.58]\n",
      " [772 'Germany' 'Male' ... 1 0 92888.52]\n",
      " [792 'France' 'Female' ... 1 0 38190.78]]\n"
     ]
    }
   ],
   "source": [
    "print(x)"
   ]
  },
  {
   "cell_type": "code",
   "execution_count": 8,
   "id": "d56f3116",
   "metadata": {},
   "outputs": [
    {
     "name": "stdout",
     "output_type": "stream",
     "text": [
      "[1 0 1 ... 1 1 0]\n"
     ]
    }
   ],
   "source": [
    "print(y)"
   ]
  },
  {
   "cell_type": "markdown",
   "id": "551a6a75",
   "metadata": {},
   "source": [
    "## ENCODING CATEGORICAL DATA\n",
    "LABEL ENCODING THE \"GENDER\" COLUMN"
   ]
  },
  {
   "cell_type": "code",
   "execution_count": 9,
   "id": "debf1767",
   "metadata": {},
   "outputs": [],
   "source": [
    "from sklearn.preprocessing import LabelEncoder\n",
    "le=LabelEncoder()\n",
    "x[:,2]=le.fit_transform(x[:,2])"
   ]
  },
  {
   "cell_type": "code",
   "execution_count": 10,
   "id": "a9529f85",
   "metadata": {},
   "outputs": [
    {
     "name": "stdout",
     "output_type": "stream",
     "text": [
      "[[619 'France' 0 ... 1 1 101348.88]\n",
      " [608 'Spain' 0 ... 0 1 112542.58]\n",
      " [502 'France' 0 ... 1 0 113931.57]\n",
      " ...\n",
      " [709 'France' 0 ... 0 1 42085.58]\n",
      " [772 'Germany' 1 ... 1 0 92888.52]\n",
      " [792 'France' 0 ... 1 0 38190.78]]\n"
     ]
    }
   ],
   "source": [
    "print(x)"
   ]
  },
  {
   "cell_type": "markdown",
   "id": "1d93fa56",
   "metadata": {},
   "source": [
    "ONE HOT ENCODING THE \"GEOGRAPHY\" COLUMN"
   ]
  },
  {
   "cell_type": "code",
   "execution_count": 11,
   "id": "a3f51097",
   "metadata": {},
   "outputs": [],
   "source": [
    "from sklearn.compose import ColumnTransformer\n",
    "from sklearn.preprocessing import OneHotEncoder\n",
    "ct=ColumnTransformer(transformers=[('encoder',OneHotEncoder(),[1])],remainder='passthrough')\n",
    "x=np.array(ct.fit_transform(x))"
   ]
  },
  {
   "cell_type": "code",
   "execution_count": 12,
   "id": "a93566b9",
   "metadata": {},
   "outputs": [
    {
     "name": "stdout",
     "output_type": "stream",
     "text": [
      "[[1.0 0.0 0.0 ... 1 1 101348.88]\n",
      " [0.0 0.0 1.0 ... 0 1 112542.58]\n",
      " [1.0 0.0 0.0 ... 1 0 113931.57]\n",
      " ...\n",
      " [1.0 0.0 0.0 ... 0 1 42085.58]\n",
      " [0.0 1.0 0.0 ... 1 0 92888.52]\n",
      " [1.0 0.0 0.0 ... 1 0 38190.78]]\n"
     ]
    }
   ],
   "source": [
    "print(x)"
   ]
  },
  {
   "cell_type": "markdown",
   "id": "2271bc6e",
   "metadata": {},
   "source": [
    "## SPLITTING THE DATASET INTO THE TRAINING SET AND TEST SET"
   ]
  },
  {
   "cell_type": "code",
   "execution_count": 13,
   "id": "c42afe67",
   "metadata": {},
   "outputs": [],
   "source": [
    "from sklearn.model_selection import train_test_split\n",
    "x_train,x_test,y_train,y_test=train_test_split(x,y,test_size=0.2,random_state=0)"
   ]
  },
  {
   "cell_type": "markdown",
   "id": "439c6da2",
   "metadata": {},
   "source": [
    "## FEATURE SCALING"
   ]
  },
  {
   "cell_type": "code",
   "execution_count": 14,
   "id": "fb407497",
   "metadata": {},
   "outputs": [],
   "source": [
    "from sklearn.preprocessing import StandardScaler\n",
    "sc=StandardScaler()\n",
    "x_train=sc.fit_transform(x_train)\n",
    "x_test=sc.transform(x_test)"
   ]
  },
  {
   "cell_type": "code",
   "execution_count": 15,
   "id": "26d60664",
   "metadata": {},
   "outputs": [
    {
     "data": {
      "text/plain": [
       "array([[-1.01460667, -0.5698444 ,  1.74309049, ...,  0.64259497,\n",
       "        -1.03227043,  1.10643166],\n",
       "       [-1.01460667,  1.75486502, -0.57369368, ...,  0.64259497,\n",
       "         0.9687384 , -0.74866447],\n",
       "       [ 0.98560362, -0.5698444 , -0.57369368, ...,  0.64259497,\n",
       "        -1.03227043,  1.48533467],\n",
       "       ...,\n",
       "       [ 0.98560362, -0.5698444 , -0.57369368, ...,  0.64259497,\n",
       "        -1.03227043,  1.41231994],\n",
       "       [-1.01460667, -0.5698444 ,  1.74309049, ...,  0.64259497,\n",
       "         0.9687384 ,  0.84432121],\n",
       "       [-1.01460667,  1.75486502, -0.57369368, ...,  0.64259497,\n",
       "        -1.03227043,  0.32472465]])"
      ]
     },
     "execution_count": 15,
     "metadata": {},
     "output_type": "execute_result"
    }
   ],
   "source": [
    "x_train"
   ]
  },
  {
   "cell_type": "code",
   "execution_count": 16,
   "id": "198b79e6",
   "metadata": {},
   "outputs": [
    {
     "data": {
      "text/plain": [
       "array([[-1.01460667,  1.75486502, -0.57369368, ...,  0.64259497,\n",
       "         0.9687384 ,  1.61085707],\n",
       "       [ 0.98560362, -0.5698444 , -0.57369368, ...,  0.64259497,\n",
       "        -1.03227043,  0.49587037],\n",
       "       [-1.01460667, -0.5698444 ,  1.74309049, ...,  0.64259497,\n",
       "         0.9687384 , -0.42478674],\n",
       "       ...,\n",
       "       [-1.01460667, -0.5698444 ,  1.74309049, ...,  0.64259497,\n",
       "        -1.03227043,  0.71888467],\n",
       "       [-1.01460667,  1.75486502, -0.57369368, ...,  0.64259497,\n",
       "         0.9687384 , -1.54507805],\n",
       "       [-1.01460667,  1.75486502, -0.57369368, ...,  0.64259497,\n",
       "        -1.03227043,  1.61255917]])"
      ]
     },
     "execution_count": 16,
     "metadata": {},
     "output_type": "execute_result"
    }
   ],
   "source": [
    "x_test"
   ]
  },
  {
   "cell_type": "markdown",
   "id": "e2df2da8",
   "metadata": {},
   "source": [
    "# PART 2- BUILDING THE ANN"
   ]
  },
  {
   "cell_type": "markdown",
   "id": "4afad18f",
   "metadata": {},
   "source": [
    "## INITIALIZING THE ANN"
   ]
  },
  {
   "cell_type": "code",
   "execution_count": 17,
   "id": "2aa81d21",
   "metadata": {},
   "outputs": [],
   "source": [
    "ann=tf.keras.models.Sequential()"
   ]
  },
  {
   "cell_type": "markdown",
   "id": "983c506d",
   "metadata": {},
   "source": [
    "## ADDING THE INPUT LAYER AND THE FIRST HIDDEN LAYER"
   ]
  },
  {
   "cell_type": "code",
   "execution_count": 19,
   "id": "3ed73b53",
   "metadata": {},
   "outputs": [],
   "source": [
    "ann.add(tf.keras.layers.Dense(units=6,activation='relu'))"
   ]
  },
  {
   "cell_type": "markdown",
   "id": "1b3582ee",
   "metadata": {},
   "source": [
    "## ADDING THE SECOND HIDDEN LAYER"
   ]
  },
  {
   "cell_type": "code",
   "execution_count": 20,
   "id": "5380db30",
   "metadata": {},
   "outputs": [],
   "source": [
    "ann.add(tf.keras.layers.Dense(units=6,activation='relu'))"
   ]
  },
  {
   "cell_type": "markdown",
   "id": "c4582511",
   "metadata": {},
   "source": [
    "## ADDING THE OUTPUT LAYER"
   ]
  },
  {
   "cell_type": "code",
   "execution_count": 21,
   "id": "db60fb6f",
   "metadata": {},
   "outputs": [],
   "source": [
    "ann.add(tf.keras.layers.Dense(units=1,activation='sigmoid'))"
   ]
  },
  {
   "cell_type": "markdown",
   "id": "b67c2c79",
   "metadata": {},
   "source": [
    "# PART 3- TRAINING THE ANN"
   ]
  },
  {
   "cell_type": "markdown",
   "id": "42d3ab39",
   "metadata": {},
   "source": [
    "## COMPILING THE ANN"
   ]
  },
  {
   "cell_type": "code",
   "execution_count": 22,
   "id": "3d2452d8",
   "metadata": {},
   "outputs": [],
   "source": [
    "ann.compile(optimizer='adam',loss='binary_crossentropy',metrics=['accuracy'])"
   ]
  },
  {
   "cell_type": "markdown",
   "id": "fbe3fdc0",
   "metadata": {},
   "source": [
    "## TRAINING THE ANN ON TRAINING SET"
   ]
  },
  {
   "cell_type": "code",
   "execution_count": 23,
   "id": "56b78cc8",
   "metadata": {},
   "outputs": [
    {
     "name": "stdout",
     "output_type": "stream",
     "text": [
      "Epoch 1/100\n",
      "250/250 [==============================] - 1s 963us/step - loss: 0.5181 - accuracy: 0.7861\n",
      "Epoch 2/100\n",
      "250/250 [==============================] - 0s 923us/step - loss: 0.4687 - accuracy: 0.7960\n",
      "Epoch 3/100\n",
      "250/250 [==============================] - 0s 921us/step - loss: 0.4492 - accuracy: 0.7960\n",
      "Epoch 4/100\n",
      "250/250 [==============================] - 0s 873us/step - loss: 0.4381 - accuracy: 0.7958\n",
      "Epoch 5/100\n",
      "250/250 [==============================] - 0s 777us/step - loss: 0.4308 - accuracy: 0.8021\n",
      "Epoch 6/100\n",
      "250/250 [==============================] - 0s 851us/step - loss: 0.4251 - accuracy: 0.8091\n",
      "Epoch 7/100\n",
      "250/250 [==============================] - 0s 917us/step - loss: 0.4196 - accuracy: 0.8154\n",
      "Epoch 8/100\n",
      "250/250 [==============================] - 0s 883us/step - loss: 0.4145 - accuracy: 0.8191\n",
      "Epoch 9/100\n",
      "250/250 [==============================] - 0s 900us/step - loss: 0.4098 - accuracy: 0.8223\n",
      "Epoch 10/100\n",
      "250/250 [==============================] - 0s 838us/step - loss: 0.4057 - accuracy: 0.8240\n",
      "Epoch 11/100\n",
      "250/250 [==============================] - 0s 920us/step - loss: 0.4024 - accuracy: 0.8241\n",
      "Epoch 12/100\n",
      "250/250 [==============================] - 0s 818us/step - loss: 0.3992 - accuracy: 0.8278\n",
      "Epoch 13/100\n",
      "250/250 [==============================] - 0s 2ms/step - loss: 0.3963 - accuracy: 0.8278\n",
      "Epoch 14/100\n",
      "250/250 [==============================] - 1s 4ms/step - loss: 0.3935 - accuracy: 0.8289\n",
      "Epoch 15/100\n",
      "250/250 [==============================] - 1s 4ms/step - loss: 0.3900 - accuracy: 0.8315\n",
      "Epoch 16/100\n",
      "250/250 [==============================] - 1s 4ms/step - loss: 0.3873 - accuracy: 0.8304\n",
      "Epoch 17/100\n",
      "250/250 [==============================] - 1s 4ms/step - loss: 0.3847 - accuracy: 0.8381\n",
      "Epoch 18/100\n",
      "250/250 [==============================] - 1s 3ms/step - loss: 0.3819 - accuracy: 0.8403\n",
      "Epoch 19/100\n",
      "250/250 [==============================] - 0s 799us/step - loss: 0.3800 - accuracy: 0.8414\n",
      "Epoch 20/100\n",
      "250/250 [==============================] - 0s 876us/step - loss: 0.3775 - accuracy: 0.8444\n",
      "Epoch 21/100\n",
      "250/250 [==============================] - 0s 894us/step - loss: 0.3756 - accuracy: 0.8449\n",
      "Epoch 22/100\n",
      "250/250 [==============================] - 0s 874us/step - loss: 0.3733 - accuracy: 0.8465\n",
      "Epoch 23/100\n",
      "250/250 [==============================] - 0s 835us/step - loss: 0.3722 - accuracy: 0.8465\n",
      "Epoch 24/100\n",
      "250/250 [==============================] - 0s 769us/step - loss: 0.3705 - accuracy: 0.8495\n",
      "Epoch 25/100\n",
      "250/250 [==============================] - 0s 850us/step - loss: 0.3690 - accuracy: 0.8474\n",
      "Epoch 26/100\n",
      "250/250 [==============================] - 0s 838us/step - loss: 0.3678 - accuracy: 0.8490\n",
      "Epoch 27/100\n",
      "250/250 [==============================] - 0s 814us/step - loss: 0.3666 - accuracy: 0.8506\n",
      "Epoch 28/100\n",
      "250/250 [==============================] - 0s 821us/step - loss: 0.3657 - accuracy: 0.8496\n",
      "Epoch 29/100\n",
      "250/250 [==============================] - 0s 834us/step - loss: 0.3645 - accuracy: 0.8518\n",
      "Epoch 30/100\n",
      "250/250 [==============================] - 0s 777us/step - loss: 0.3635 - accuracy: 0.8514\n",
      "Epoch 31/100\n",
      "250/250 [==============================] - 0s 803us/step - loss: 0.3627 - accuracy: 0.8503\n",
      "Epoch 32/100\n",
      "250/250 [==============================] - 0s 958us/step - loss: 0.3615 - accuracy: 0.8497\n",
      "Epoch 33/100\n",
      "250/250 [==============================] - 1s 5ms/step - loss: 0.3606 - accuracy: 0.8534\n",
      "Epoch 34/100\n",
      "250/250 [==============================] - 1s 4ms/step - loss: 0.3598 - accuracy: 0.8525\n",
      "Epoch 35/100\n",
      "250/250 [==============================] - 1s 4ms/step - loss: 0.3590 - accuracy: 0.8528\n",
      "Epoch 36/100\n",
      "250/250 [==============================] - 1s 4ms/step - loss: 0.3585 - accuracy: 0.8537\n",
      "Epoch 37/100\n",
      "250/250 [==============================] - 1s 4ms/step - loss: 0.3568 - accuracy: 0.8534\n",
      "Epoch 38/100\n",
      "250/250 [==============================] - 0s 1ms/step - loss: 0.3566 - accuracy: 0.8526\n",
      "Epoch 39/100\n",
      "250/250 [==============================] - 0s 992us/step - loss: 0.3559 - accuracy: 0.8561\n",
      "Epoch 40/100\n",
      "250/250 [==============================] - 0s 964us/step - loss: 0.3555 - accuracy: 0.8539\n",
      "Epoch 41/100\n",
      "250/250 [==============================] - 0s 997us/step - loss: 0.3542 - accuracy: 0.8536\n",
      "Epoch 42/100\n",
      "250/250 [==============================] - 0s 1ms/step - loss: 0.3538 - accuracy: 0.8539\n",
      "Epoch 43/100\n",
      "250/250 [==============================] - 0s 918us/step - loss: 0.3539 - accuracy: 0.8537\n",
      "Epoch 44/100\n",
      "250/250 [==============================] - 0s 882us/step - loss: 0.3527 - accuracy: 0.8574\n",
      "Epoch 45/100\n",
      "250/250 [==============================] - 0s 972us/step - loss: 0.3529 - accuracy: 0.8558\n",
      "Epoch 46/100\n",
      "250/250 [==============================] - 0s 976us/step - loss: 0.3518 - accuracy: 0.8584\n",
      "Epoch 47/100\n",
      "250/250 [==============================] - 0s 863us/step - loss: 0.3518 - accuracy: 0.8566\n",
      "Epoch 48/100\n",
      "250/250 [==============================] - 0s 845us/step - loss: 0.3517 - accuracy: 0.8568\n",
      "Epoch 49/100\n",
      "250/250 [==============================] - 1s 4ms/step - loss: 0.3507 - accuracy: 0.8561\n",
      "Epoch 50/100\n",
      "250/250 [==============================] - 1s 4ms/step - loss: 0.3504 - accuracy: 0.8584\n",
      "Epoch 51/100\n",
      "250/250 [==============================] - 1s 4ms/step - loss: 0.3502 - accuracy: 0.8579\n",
      "Epoch 52/100\n",
      "250/250 [==============================] - 1s 4ms/step - loss: 0.3498 - accuracy: 0.8593\n",
      "Epoch 53/100\n",
      "250/250 [==============================] - 1s 4ms/step - loss: 0.3491 - accuracy: 0.8596\n",
      "Epoch 54/100\n",
      "250/250 [==============================] - 0s 2ms/step - loss: 0.3496 - accuracy: 0.8577\n",
      "Epoch 55/100\n",
      "250/250 [==============================] - 0s 917us/step - loss: 0.3490 - accuracy: 0.8601\n",
      "Epoch 56/100\n",
      "250/250 [==============================] - 0s 831us/step - loss: 0.3486 - accuracy: 0.8620\n",
      "Epoch 57/100\n",
      "250/250 [==============================] - 0s 823us/step - loss: 0.3490 - accuracy: 0.8575\n",
      "Epoch 58/100\n",
      "250/250 [==============================] - 0s 802us/step - loss: 0.3481 - accuracy: 0.8580\n",
      "Epoch 59/100\n",
      "250/250 [==============================] - 0s 786us/step - loss: 0.3480 - accuracy: 0.8590\n",
      "Epoch 60/100\n",
      "250/250 [==============================] - 0s 774us/step - loss: 0.3474 - accuracy: 0.8596\n",
      "Epoch 61/100\n",
      "250/250 [==============================] - 0s 765us/step - loss: 0.3477 - accuracy: 0.8590\n",
      "Epoch 62/100\n",
      "250/250 [==============================] - 0s 791us/step - loss: 0.3471 - accuracy: 0.8587\n",
      "Epoch 63/100\n",
      "250/250 [==============================] - 0s 775us/step - loss: 0.3470 - accuracy: 0.8595\n",
      "Epoch 64/100\n",
      "250/250 [==============================] - 0s 773us/step - loss: 0.3466 - accuracy: 0.8585\n",
      "Epoch 65/100\n",
      "250/250 [==============================] - 0s 783us/step - loss: 0.3471 - accuracy: 0.8614\n",
      "Epoch 66/100\n",
      "250/250 [==============================] - 0s 779us/step - loss: 0.3464 - accuracy: 0.8599\n",
      "Epoch 67/100\n",
      "250/250 [==============================] - 0s 803us/step - loss: 0.3466 - accuracy: 0.8599\n",
      "Epoch 68/100\n",
      "250/250 [==============================] - 0s 789us/step - loss: 0.3463 - accuracy: 0.8605\n",
      "Epoch 69/100\n",
      "250/250 [==============================] - 0s 798us/step - loss: 0.3457 - accuracy: 0.8590\n",
      "Epoch 70/100\n",
      "250/250 [==============================] - 0s 768us/step - loss: 0.3453 - accuracy: 0.8605\n",
      "Epoch 71/100\n",
      "250/250 [==============================] - 0s 806us/step - loss: 0.3451 - accuracy: 0.8597\n",
      "Epoch 72/100\n",
      "250/250 [==============================] - 0s 848us/step - loss: 0.3456 - accuracy: 0.8597\n",
      "Epoch 73/100\n",
      "250/250 [==============================] - 1s 3ms/step - loss: 0.3455 - accuracy: 0.8618\n",
      "Epoch 74/100\n",
      "250/250 [==============================] - 1s 4ms/step - loss: 0.3454 - accuracy: 0.8601\n",
      "Epoch 75/100\n",
      "250/250 [==============================] - 1s 4ms/step - loss: 0.3450 - accuracy: 0.8604\n",
      "Epoch 76/100\n",
      "250/250 [==============================] - 1s 4ms/step - loss: 0.3451 - accuracy: 0.8596\n",
      "Epoch 77/100\n",
      "250/250 [==============================] - 1s 4ms/step - loss: 0.3447 - accuracy: 0.8601\n",
      "Epoch 78/100\n",
      "250/250 [==============================] - 0s 2ms/step - loss: 0.3442 - accuracy: 0.8619\n",
      "Epoch 79/100\n",
      "250/250 [==============================] - 0s 1ms/step - loss: 0.3443 - accuracy: 0.8610\n",
      "Epoch 80/100\n"
     ]
    },
    {
     "name": "stdout",
     "output_type": "stream",
     "text": [
      "250/250 [==============================] - 0s 1ms/step - loss: 0.3439 - accuracy: 0.8629\n",
      "Epoch 81/100\n",
      "250/250 [==============================] - 0s 968us/step - loss: 0.3441 - accuracy: 0.8631\n",
      "Epoch 82/100\n",
      "250/250 [==============================] - 0s 929us/step - loss: 0.3445 - accuracy: 0.8612\n",
      "Epoch 83/100\n",
      "250/250 [==============================] - 0s 857us/step - loss: 0.3438 - accuracy: 0.8611\n",
      "Epoch 84/100\n",
      "250/250 [==============================] - 0s 877us/step - loss: 0.3440 - accuracy: 0.8619\n",
      "Epoch 85/100\n",
      "250/250 [==============================] - 0s 876us/step - loss: 0.3438 - accuracy: 0.8605\n",
      "Epoch 86/100\n",
      "250/250 [==============================] - 0s 804us/step - loss: 0.3435 - accuracy: 0.8597\n",
      "Epoch 87/100\n",
      "250/250 [==============================] - 0s 854us/step - loss: 0.3438 - accuracy: 0.8606\n",
      "Epoch 88/100\n",
      "250/250 [==============================] - 0s 757us/step - loss: 0.3433 - accuracy: 0.8631\n",
      "Epoch 89/100\n",
      "250/250 [==============================] - 0s 760us/step - loss: 0.3431 - accuracy: 0.8609\n",
      "Epoch 90/100\n",
      "250/250 [==============================] - 0s 766us/step - loss: 0.3430 - accuracy: 0.8621\n",
      "Epoch 91/100\n",
      "250/250 [==============================] - 0s 794us/step - loss: 0.3433 - accuracy: 0.8624\n",
      "Epoch 92/100\n",
      "250/250 [==============================] - 0s 874us/step - loss: 0.3428 - accuracy: 0.8596\n",
      "Epoch 93/100\n",
      "250/250 [==============================] - 0s 758us/step - loss: 0.3431 - accuracy: 0.8610\n",
      "Epoch 94/100\n",
      "250/250 [==============================] - 0s 795us/step - loss: 0.3428 - accuracy: 0.8599\n",
      "Epoch 95/100\n",
      "250/250 [==============================] - 0s 756us/step - loss: 0.3426 - accuracy: 0.8619\n",
      "Epoch 96/100\n",
      "250/250 [==============================] - 0s 758us/step - loss: 0.3423 - accuracy: 0.8627\n",
      "Epoch 97/100\n",
      "250/250 [==============================] - 0s 812us/step - loss: 0.3427 - accuracy: 0.8608\n",
      "Epoch 98/100\n",
      "250/250 [==============================] - 0s 780us/step - loss: 0.3430 - accuracy: 0.8611\n",
      "Epoch 99/100\n",
      "250/250 [==============================] - 0s 759us/step - loss: 0.3429 - accuracy: 0.8615\n",
      "Epoch 100/100\n",
      "250/250 [==============================] - 0s 808us/step - loss: 0.3419 - accuracy: 0.8608\n"
     ]
    },
    {
     "data": {
      "text/plain": [
       "<keras.callbacks.History at 0x2b924f84ac0>"
      ]
     },
     "execution_count": 23,
     "metadata": {},
     "output_type": "execute_result"
    }
   ],
   "source": [
    "ann.fit(x_train,y_train,batch_size=32,epochs=100)"
   ]
  },
  {
   "cell_type": "markdown",
   "id": "6eb59369",
   "metadata": {},
   "source": [
    "# PART 4- MAKING THE PREDICTIONS AND EVALUATING THE MODEL"
   ]
  },
  {
   "cell_type": "markdown",
   "id": "33ef1512",
   "metadata": {},
   "source": [
    "## PREDICTING THE RESULT OF SINGLE OBSERVATION"
   ]
  },
  {
   "cell_type": "code",
   "execution_count": 25,
   "id": "3e384fca",
   "metadata": {},
   "outputs": [
    {
     "data": {
      "text/plain": [
       "array([[1.0, 0.0, 0.0, ..., 1, 1, 101348.88],\n",
       "       [0.0, 0.0, 1.0, ..., 0, 1, 112542.58],\n",
       "       [1.0, 0.0, 0.0, ..., 1, 0, 113931.57],\n",
       "       ...,\n",
       "       [1.0, 0.0, 0.0, ..., 0, 1, 42085.58],\n",
       "       [0.0, 1.0, 0.0, ..., 1, 0, 92888.52],\n",
       "       [1.0, 0.0, 0.0, ..., 1, 0, 38190.78]], dtype=object)"
      ]
     },
     "execution_count": 25,
     "metadata": {},
     "output_type": "execute_result"
    }
   ],
   "source": [
    "x"
   ]
  },
  {
   "cell_type": "code",
   "execution_count": 28,
   "id": "e71c6d8a",
   "metadata": {},
   "outputs": [
    {
     "name": "stdout",
     "output_type": "stream",
     "text": [
      "1/1 [==============================] - 0s 14ms/step\n",
      "[[0.04367512]]\n"
     ]
    }
   ],
   "source": [
    "print(ann.predict(sc.transform([[1,0,0,600,1,40,3,60000,2,1,1,50000]])))"
   ]
  },
  {
   "cell_type": "code",
   "execution_count": 29,
   "id": "f5d77cf6",
   "metadata": {},
   "outputs": [
    {
     "name": "stdout",
     "output_type": "stream",
     "text": [
      "1/1 [==============================] - 0s 15ms/step\n",
      "[[False]]\n"
     ]
    }
   ],
   "source": [
    "print(ann.predict(sc.transform([[1,0,0,600,1,40,3,60000,2,1,1,50000]]))>0.5)"
   ]
  },
  {
   "cell_type": "markdown",
   "id": "01d00400",
   "metadata": {},
   "source": [
    "Therefore, our ANN model predicts that this customer stays in the bank!\n",
    "\n",
    "**Important note 1:** Notice that the values of the features were all input in a double pair of square brackets. That's because the \"predict\" method always expects a 2D array as the format of its inputs. And putting our values into a double pair of square brackets makes the input exactly a 2D array.\n",
    "\n",
    "**Important note 2:** Notice also that the \"France\" country was not input as a string in the last column but as \"1, 0, 0\" in the first three columns. That's because of course the predict method expects the one-hot-encoded values of the state, and as we see in the first row of the matrix of features X, \"France\" was encoded as \"1, 0, 0\". And be careful to include these values in the first three columns, because the dummy variables are always created in the first columns."
   ]
  },
  {
   "cell_type": "markdown",
   "id": "f888ed87",
   "metadata": {},
   "source": [
    "## PREDICTING THE TEST SET RESULTS"
   ]
  },
  {
   "cell_type": "code",
   "execution_count": 30,
   "id": "1cd38fd4",
   "metadata": {
    "scrolled": true
   },
   "outputs": [
    {
     "name": "stdout",
     "output_type": "stream",
     "text": [
      "63/63 [==============================] - 0s 653us/step\n",
      "[[False]\n",
      " [False]\n",
      " [False]\n",
      " ...\n",
      " [False]\n",
      " [False]\n",
      " [False]]\n"
     ]
    }
   ],
   "source": [
    "y_pred=ann.predict(x_test)\n",
    "y_pred=(y_pred>0.5)\n",
    "print(y_pred)"
   ]
  },
  {
   "cell_type": "code",
   "execution_count": 31,
   "id": "7a027726",
   "metadata": {},
   "outputs": [
    {
     "name": "stdout",
     "output_type": "stream",
     "text": [
      "[[0 0]\n",
      " [0 1]\n",
      " [0 0]\n",
      " ...\n",
      " [0 0]\n",
      " [0 0]\n",
      " [0 0]]\n"
     ]
    }
   ],
   "source": [
    "print(np.concatenate((y_pred.reshape(len(y_pred),1), y_test.reshape(len(y_test),1)),1))"
   ]
  },
  {
   "cell_type": "markdown",
   "id": "4490892b",
   "metadata": {},
   "source": [
    "## MAKING THE CONFUSION MATRIX"
   ]
  },
  {
   "cell_type": "code",
   "execution_count": 32,
   "id": "293a40aa",
   "metadata": {},
   "outputs": [
    {
     "name": "stdout",
     "output_type": "stream",
     "text": [
      "[[1517   78]\n",
      " [ 205  200]]\n"
     ]
    },
    {
     "data": {
      "text/plain": [
       "0.8585"
      ]
     },
     "execution_count": 32,
     "metadata": {},
     "output_type": "execute_result"
    }
   ],
   "source": [
    "from sklearn.metrics import confusion_matrix,accuracy_score\n",
    "cm=confusion_matrix(y_test,y_pred)\n",
    "print(cm)\n",
    "accuracy_score(y_test,y_pred)"
   ]
  },
  {
   "cell_type": "code",
   "execution_count": null,
   "id": "dac92cdc",
   "metadata": {},
   "outputs": [],
   "source": []
  }
 ],
 "metadata": {
  "kernelspec": {
   "display_name": "Python 3 (ipykernel)",
   "language": "python",
   "name": "python3"
  },
  "language_info": {
   "codemirror_mode": {
    "name": "ipython",
    "version": 3
   },
   "file_extension": ".py",
   "mimetype": "text/x-python",
   "name": "python",
   "nbconvert_exporter": "python",
   "pygments_lexer": "ipython3",
   "version": "3.9.12"
  }
 },
 "nbformat": 4,
 "nbformat_minor": 5
}
